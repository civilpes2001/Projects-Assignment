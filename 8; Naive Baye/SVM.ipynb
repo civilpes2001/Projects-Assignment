{
 "cells": [
  {
   "cell_type": "markdown",
   "metadata": {
    "collapsed": true
   },
   "source": [
    "### Interview Attendance Problem"
   ]
  },
  {
   "cell_type": "markdown",
   "metadata": {},
   "source": [
    "The Dataset consists of details of 1200 + candidates and the interviews they have attended. Also deals with candidate interview attendance for various clients. There are a set of questions that are asked by a recruiter while scheduling the candidate. The answers to these determine whether expected attendance is yes, no or uncertain.\n",
    "\n",
    "**Objective: ** We would like to know if we can predict whether a candidate will attend interviews or not"
   ]
  },
  {
   "cell_type": "markdown",
   "metadata": {},
   "source": [
    "**Attributes description:**\n",
    "\n",
    "1. Date of Interview: This date refers to the day the candidates were scheduled for the interview. The formats vary.<br/>\n",
    "2. Client name: The clients that gave the recruitment vendor the requisite mandate<br/>\n",
    "3. Industry: This refers to the vertical the client belongs(Note Candidates can jump across verticals in their job hunt)<br/>\n",
    "4. LocationRefers: to the current location of the candidate<br/>\n",
    "5. Position to be closed: Niche refers to rare skill sets while routine refers to more common skill sets<br/>\n",
    "6. Nature of Skillset: This refers to the skill the client has and specifies the same<br/>\n",
    "7. Interview Type: There are three types of interview-  <br/>\n",
    " * Walkin drives- these are unscheduled. Candidates are either contacted or they come to the interview on their own volition<br/>\n",
    " * Scheduled- Here the candidates profiles are screened by the client and subsequent to this, the vendor fixes an appointment between the client and the candidate. <br/>\n",
    " * The third one is a scheduled walkin. Here the number of candidates is larger and the candidates are informed beforehand of a tentative date to ascertain their availability. The profiles are screened as in a scheduled interview. In a sense it bears features of both a walk-in and a scheduled interview<br/>\n",
    "8. Name(Cand ID): This is a substitute to keep the candidates identity a secret<br/>\n",
    "9. Gender: Whether the candidate is male or female<br/>\n",
    "10. Candidate Current Location<br/>\n",
    "11. Candidate Job Location<br/>\n",
    "12. Interview Venue<br/>\n",
    "13. Candidate Native location<br/>\n",
    "14. Have you obtained the necessary permission to start at the required time<br/>\n",
    "15. Hope there will be no unscheduled meetings<br/>\n",
    "16. Can I Call you three hours before the interview and follow up on your attendance for the interview<br/>\n",
    "17. Can I have an alternative number/ desk number. I assure you that I will not trouble you too much<br/>\n",
    "18. Have you taken a printout of your updated resume. Have you read the JD and understood the same<br/>\n",
    "19. Are you clear with the venue details and the landmark.<br/>\n",
    "20. Has the call letter been shared<br/>\n",
    "21. Expected Attendance: Whether the candidate was expected to attend the interview. Here the it is either yes no or uncertain<br/>\n",
    "22. Observed Attendance: Whether the candidate attended the interview. This is binary and will form our dependent variable<br/>\n",
    "23. Marital Status: Whether the candidate is married or Single<br/>\n"
   ]
  },
  {
   "cell_type": "markdown",
   "metadata": {},
   "source": [
    "### Importing data <a name='id'></a>"
   ]
  },
  {
   "cell_type": "code",
   "execution_count": 1,
   "metadata": {},
   "outputs": [],
   "source": [
    "# Import basic libraries\n",
    "import numpy as np # linear algebra\n",
    "import pandas as pd # data processing\n",
    "\n",
    "# import visualization libraries\n",
    "import seaborn as sns ### For visualizations\n",
    "import matplotlib.pyplot as plt\n",
    "%matplotlib inline"
   ]
  },
  {
   "cell_type": "code",
   "execution_count": 2,
   "metadata": {},
   "outputs": [],
   "source": [
    "data = pd.read_csv(\"C:/Users/Aravind/Desktop/ML Assignment/8; Naive Baye/Assignment/Assignment Interview.csv\")"
   ]
  },
  {
   "cell_type": "code",
   "execution_count": 3,
   "metadata": {},
   "outputs": [
    {
     "data": {
      "text/html": [
       "<div>\n",
       "<style scoped>\n",
       "    .dataframe tbody tr th:only-of-type {\n",
       "        vertical-align: middle;\n",
       "    }\n",
       "\n",
       "    .dataframe tbody tr th {\n",
       "        vertical-align: top;\n",
       "    }\n",
       "\n",
       "    .dataframe thead th {\n",
       "        text-align: right;\n",
       "    }\n",
       "</style>\n",
       "<table border=\"1\" class=\"dataframe\">\n",
       "  <thead>\n",
       "    <tr style=\"text-align: right;\">\n",
       "      <th></th>\n",
       "      <th>Date of Interview</th>\n",
       "      <th>Client name</th>\n",
       "      <th>Industry</th>\n",
       "      <th>Location</th>\n",
       "      <th>Position to be closed</th>\n",
       "      <th>Nature of Skillset</th>\n",
       "      <th>Interview Type</th>\n",
       "      <th>Name(Cand ID)</th>\n",
       "      <th>Gender</th>\n",
       "      <th>Candidate Current Location</th>\n",
       "      <th>...</th>\n",
       "      <th>Have you obtained the necessary permission to start at the required time</th>\n",
       "      <th>Hope there will be no unscheduled meetings</th>\n",
       "      <th>Can I Call you three hours before the interview and follow up on your attendance for the interview</th>\n",
       "      <th>Can I have an alternative number/ desk number. I assure you that I will not trouble you too much</th>\n",
       "      <th>Have you taken a printout of your updated resume. Have you read the JD and understood the same</th>\n",
       "      <th>Are you clear with the venue details and the landmark.</th>\n",
       "      <th>Has the call letter been shared</th>\n",
       "      <th>Expected Attendance</th>\n",
       "      <th>Observed Attendance</th>\n",
       "      <th>Marital Status</th>\n",
       "    </tr>\n",
       "  </thead>\n",
       "  <tbody>\n",
       "    <tr>\n",
       "      <th>0</th>\n",
       "      <td>13.02.2015</td>\n",
       "      <td>Hospira</td>\n",
       "      <td>Pharmaceuticals</td>\n",
       "      <td>Chennai</td>\n",
       "      <td>Production- Sterile</td>\n",
       "      <td>Routine</td>\n",
       "      <td>Scheduled Walkin</td>\n",
       "      <td>Candidate 1</td>\n",
       "      <td>Male</td>\n",
       "      <td>Chennai</td>\n",
       "      <td>...</td>\n",
       "      <td>Yes</td>\n",
       "      <td>Yes</td>\n",
       "      <td>Yes</td>\n",
       "      <td>Yes</td>\n",
       "      <td>Yes</td>\n",
       "      <td>Yes</td>\n",
       "      <td>Yes</td>\n",
       "      <td>Yes</td>\n",
       "      <td>No</td>\n",
       "      <td>Single</td>\n",
       "    </tr>\n",
       "    <tr>\n",
       "      <th>1</th>\n",
       "      <td>13.02.2015</td>\n",
       "      <td>Hospira</td>\n",
       "      <td>Pharmaceuticals</td>\n",
       "      <td>Chennai</td>\n",
       "      <td>Production- Sterile</td>\n",
       "      <td>Routine</td>\n",
       "      <td>Scheduled Walkin</td>\n",
       "      <td>Candidate 2</td>\n",
       "      <td>Male</td>\n",
       "      <td>Chennai</td>\n",
       "      <td>...</td>\n",
       "      <td>Yes</td>\n",
       "      <td>Yes</td>\n",
       "      <td>Yes</td>\n",
       "      <td>Yes</td>\n",
       "      <td>Yes</td>\n",
       "      <td>Yes</td>\n",
       "      <td>Yes</td>\n",
       "      <td>Yes</td>\n",
       "      <td>No</td>\n",
       "      <td>Single</td>\n",
       "    </tr>\n",
       "    <tr>\n",
       "      <th>2</th>\n",
       "      <td>13.02.2015</td>\n",
       "      <td>Hospira</td>\n",
       "      <td>Pharmaceuticals</td>\n",
       "      <td>Chennai</td>\n",
       "      <td>Production- Sterile</td>\n",
       "      <td>Routine</td>\n",
       "      <td>Scheduled Walkin</td>\n",
       "      <td>Candidate 3</td>\n",
       "      <td>Male</td>\n",
       "      <td>Chennai</td>\n",
       "      <td>...</td>\n",
       "      <td>NaN</td>\n",
       "      <td>Na</td>\n",
       "      <td>NaN</td>\n",
       "      <td>NaN</td>\n",
       "      <td>NaN</td>\n",
       "      <td>NaN</td>\n",
       "      <td>NaN</td>\n",
       "      <td>Uncertain</td>\n",
       "      <td>No</td>\n",
       "      <td>Single</td>\n",
       "    </tr>\n",
       "    <tr>\n",
       "      <th>3</th>\n",
       "      <td>13.02.2015</td>\n",
       "      <td>Hospira</td>\n",
       "      <td>Pharmaceuticals</td>\n",
       "      <td>Chennai</td>\n",
       "      <td>Production- Sterile</td>\n",
       "      <td>Routine</td>\n",
       "      <td>Scheduled Walkin</td>\n",
       "      <td>Candidate 4</td>\n",
       "      <td>Male</td>\n",
       "      <td>Chennai</td>\n",
       "      <td>...</td>\n",
       "      <td>Yes</td>\n",
       "      <td>Yes</td>\n",
       "      <td>No</td>\n",
       "      <td>Yes</td>\n",
       "      <td>No</td>\n",
       "      <td>Yes</td>\n",
       "      <td>Yes</td>\n",
       "      <td>Uncertain</td>\n",
       "      <td>No</td>\n",
       "      <td>Single</td>\n",
       "    </tr>\n",
       "    <tr>\n",
       "      <th>4</th>\n",
       "      <td>13.02.2015</td>\n",
       "      <td>Hospira</td>\n",
       "      <td>Pharmaceuticals</td>\n",
       "      <td>Chennai</td>\n",
       "      <td>Production- Sterile</td>\n",
       "      <td>Routine</td>\n",
       "      <td>Scheduled Walkin</td>\n",
       "      <td>Candidate 5</td>\n",
       "      <td>Male</td>\n",
       "      <td>Chennai</td>\n",
       "      <td>...</td>\n",
       "      <td>Yes</td>\n",
       "      <td>Yes</td>\n",
       "      <td>Yes</td>\n",
       "      <td>No</td>\n",
       "      <td>Yes</td>\n",
       "      <td>Yes</td>\n",
       "      <td>Yes</td>\n",
       "      <td>Uncertain</td>\n",
       "      <td>No</td>\n",
       "      <td>Married</td>\n",
       "    </tr>\n",
       "  </tbody>\n",
       "</table>\n",
       "<p>5 rows × 23 columns</p>\n",
       "</div>"
      ],
      "text/plain": [
       "  Date of Interview Client name         Industry Location  \\\n",
       "0        13.02.2015     Hospira  Pharmaceuticals  Chennai   \n",
       "1        13.02.2015     Hospira  Pharmaceuticals  Chennai   \n",
       "2        13.02.2015     Hospira  Pharmaceuticals  Chennai   \n",
       "3        13.02.2015     Hospira  Pharmaceuticals  Chennai   \n",
       "4        13.02.2015     Hospira  Pharmaceuticals  Chennai   \n",
       "\n",
       "  Position to be closed Nature of Skillset    Interview Type Name(Cand ID)  \\\n",
       "0   Production- Sterile            Routine  Scheduled Walkin   Candidate 1   \n",
       "1   Production- Sterile            Routine  Scheduled Walkin   Candidate 2   \n",
       "2   Production- Sterile            Routine  Scheduled Walkin   Candidate 3   \n",
       "3   Production- Sterile            Routine  Scheduled Walkin   Candidate 4   \n",
       "4   Production- Sterile            Routine  Scheduled Walkin   Candidate 5   \n",
       "\n",
       "  Gender Candidate Current Location  ...  \\\n",
       "0   Male                    Chennai  ...   \n",
       "1   Male                    Chennai  ...   \n",
       "2   Male                    Chennai  ...   \n",
       "3   Male                    Chennai  ...   \n",
       "4   Male                    Chennai  ...   \n",
       "\n",
       "  Have you obtained the necessary permission to start at the required time  \\\n",
       "0                                                Yes                         \n",
       "1                                                Yes                         \n",
       "2                                                NaN                         \n",
       "3                                                Yes                         \n",
       "4                                                Yes                         \n",
       "\n",
       "  Hope there will be no unscheduled meetings  \\\n",
       "0                                        Yes   \n",
       "1                                        Yes   \n",
       "2                                         Na   \n",
       "3                                        Yes   \n",
       "4                                        Yes   \n",
       "\n",
       "  Can I Call you three hours before the interview and follow up on your attendance for the interview  \\\n",
       "0                                                Yes                                                   \n",
       "1                                                Yes                                                   \n",
       "2                                                NaN                                                   \n",
       "3                                                 No                                                   \n",
       "4                                                Yes                                                   \n",
       "\n",
       "  Can I have an alternative number/ desk number. I assure you that I will not trouble you too much  \\\n",
       "0                                                Yes                                                 \n",
       "1                                                Yes                                                 \n",
       "2                                                NaN                                                 \n",
       "3                                                Yes                                                 \n",
       "4                                                 No                                                 \n",
       "\n",
       "  Have you taken a printout of your updated resume. Have you read the JD and understood the same  \\\n",
       "0                                                Yes                                               \n",
       "1                                                Yes                                               \n",
       "2                                                NaN                                               \n",
       "3                                                 No                                               \n",
       "4                                                Yes                                               \n",
       "\n",
       "  Are you clear with the venue details and the landmark.  \\\n",
       "0                                                Yes       \n",
       "1                                                Yes       \n",
       "2                                                NaN       \n",
       "3                                                Yes       \n",
       "4                                                Yes       \n",
       "\n",
       "  Has the call letter been shared Expected Attendance Observed Attendance  \\\n",
       "0                             Yes                 Yes                  No   \n",
       "1                             Yes                 Yes                  No   \n",
       "2                             NaN           Uncertain                  No   \n",
       "3                             Yes           Uncertain                  No   \n",
       "4                             Yes           Uncertain                  No   \n",
       "\n",
       "  Marital Status  \n",
       "0         Single  \n",
       "1         Single  \n",
       "2         Single  \n",
       "3         Single  \n",
       "4        Married  \n",
       "\n",
       "[5 rows x 23 columns]"
      ]
     },
     "execution_count": 3,
     "metadata": {},
     "output_type": "execute_result"
    }
   ],
   "source": [
    "data.head()"
   ]
  },
  {
   "cell_type": "code",
   "execution_count": 4,
   "metadata": {},
   "outputs": [
    {
     "data": {
      "text/plain": [
       "Date of Interview                                                                                       0\n",
       "Client name                                                                                             0\n",
       "Industry                                                                                                0\n",
       "Location                                                                                                0\n",
       "Position to be closed                                                                                   0\n",
       "Nature of Skillset                                                                                      0\n",
       "Interview Type                                                                                          0\n",
       "Name(Cand ID)                                                                                           0\n",
       "Gender                                                                                                  0\n",
       "Candidate Current Location                                                                              0\n",
       "Candidate Job Location                                                                                  0\n",
       "Interview Venue                                                                                         0\n",
       "Candidate Native location                                                                               0\n",
       "Have you obtained the necessary permission to start at the required time                              204\n",
       "Hope there will be no unscheduled meetings                                                            247\n",
       "Can I Call you three hours before the interview and follow up on your attendance for the interview    247\n",
       "Can I have an alternative number/ desk number. I assure you that I will not trouble you too much      247\n",
       "Have you taken a printout of your updated resume. Have you read the JD and understood the same        248\n",
       "Are you clear with the venue details and the landmark.                                                248\n",
       "Has the call letter been shared                                                                       245\n",
       "Expected Attendance                                                                                     5\n",
       "Observed Attendance                                                                                     0\n",
       "Marital Status                                                                                          0\n",
       "dtype: int64"
      ]
     },
     "execution_count": 4,
     "metadata": {},
     "output_type": "execute_result"
    }
   ],
   "source": [
    "data.isnull().sum()"
   ]
  },
  {
   "cell_type": "markdown",
   "metadata": {},
   "source": [
    "**Observations:**<br/>\n",
    "There are missing values.<br/>\n",
    "Most of the variables are categorical data."
   ]
  },
  {
   "cell_type": "code",
   "execution_count": 5,
   "metadata": {},
   "outputs": [],
   "source": [
    "data1 = data.rename(columns={'Have you obtained the necessary permission to start at the required time': 'permission', \n",
    "                             'Hope there will be no unscheduled meetings': 'meetings', 'Can I Call you three hours before the interview and follow up on your attendance for the interview' : 'Reminder',\n",
    "                             'Can I have an alternative number/ desk number. I assure you that I will not trouble you too much': 'Alternate number',\n",
    "                             'Have you taken a printout of your updated resume. Have you read the JD and understood the same' :'Resume printout & JD',\n",
    "                             'Are you clear with the venue details and the landmark.' : 'Venue clear',\n",
    "                             'Has the call letter been shared' : 'Call letter shared',\n",
    "                             'Nature of Skillset' : 'Skillset',\n",
    "                             'Position to be closed' : 'Position',\n",
    "                             'Candidate Native location' : 'Native',\n",
    "                             'Candidate Current Location' : 'Current Location'}) ### renaming column names\n"
   ]
  },
  {
   "cell_type": "markdown",
   "metadata": {},
   "source": [
    "**Note:**<br/>\n",
    "Renamed some column names as short and simple"
   ]
  },
  {
   "cell_type": "code",
   "execution_count": 6,
   "metadata": {},
   "outputs": [
    {
     "name": "stdout",
     "output_type": "stream",
     "text": [
      "<class 'pandas.core.frame.DataFrame'>\n",
      "RangeIndex: 1232 entries, 0 to 1231\n",
      "Data columns (total 23 columns):\n",
      "Date of Interview         1232 non-null object\n",
      "Client name               1232 non-null object\n",
      "Industry                  1232 non-null object\n",
      "Location                  1232 non-null object\n",
      "Position                  1232 non-null object\n",
      "Skillset                  1232 non-null object\n",
      "Interview Type            1232 non-null object\n",
      "Name(Cand ID)             1232 non-null object\n",
      "Gender                    1232 non-null object\n",
      "Current Location          1232 non-null object\n",
      "Candidate Job Location    1232 non-null object\n",
      "Interview Venue           1232 non-null object\n",
      "Native                    1232 non-null object\n",
      "permission                1028 non-null object\n",
      "meetings                  985 non-null object\n",
      "Reminder                  985 non-null object\n",
      "Alternate number          985 non-null object\n",
      "Resume printout & JD      984 non-null object\n",
      "Venue clear               984 non-null object\n",
      "Call letter shared        987 non-null object\n",
      "Expected Attendance       1227 non-null object\n",
      "Observed Attendance       1232 non-null object\n",
      "Marital Status            1232 non-null object\n",
      "dtypes: object(23)\n",
      "memory usage: 221.5+ KB\n"
     ]
    }
   ],
   "source": [
    "data1.info()"
   ]
  },
  {
   "cell_type": "markdown",
   "metadata": {},
   "source": [
    "**Observations**<br/>\n",
    "There are missing values.<br/>\n",
    "23 columns and 1232 rows"
   ]
  },
  {
   "cell_type": "markdown",
   "metadata": {},
   "source": [
    "### Question: Perform Descriptive Statistics on the dataset "
   ]
  },
  {
   "cell_type": "code",
   "execution_count": 7,
   "metadata": {},
   "outputs": [
    {
     "data": {
      "text/html": [
       "<div>\n",
       "<style scoped>\n",
       "    .dataframe tbody tr th:only-of-type {\n",
       "        vertical-align: middle;\n",
       "    }\n",
       "\n",
       "    .dataframe tbody tr th {\n",
       "        vertical-align: top;\n",
       "    }\n",
       "\n",
       "    .dataframe thead th {\n",
       "        text-align: right;\n",
       "    }\n",
       "</style>\n",
       "<table border=\"1\" class=\"dataframe\">\n",
       "  <thead>\n",
       "    <tr style=\"text-align: right;\">\n",
       "      <th></th>\n",
       "      <th>Date of Interview</th>\n",
       "      <th>Client name</th>\n",
       "      <th>Industry</th>\n",
       "      <th>Location</th>\n",
       "      <th>Position</th>\n",
       "      <th>Skillset</th>\n",
       "      <th>Interview Type</th>\n",
       "      <th>Name(Cand ID)</th>\n",
       "      <th>Gender</th>\n",
       "      <th>Current Location</th>\n",
       "      <th>...</th>\n",
       "      <th>permission</th>\n",
       "      <th>meetings</th>\n",
       "      <th>Reminder</th>\n",
       "      <th>Alternate number</th>\n",
       "      <th>Resume printout &amp; JD</th>\n",
       "      <th>Venue clear</th>\n",
       "      <th>Call letter shared</th>\n",
       "      <th>Expected Attendance</th>\n",
       "      <th>Observed Attendance</th>\n",
       "      <th>Marital Status</th>\n",
       "    </tr>\n",
       "  </thead>\n",
       "  <tbody>\n",
       "    <tr>\n",
       "      <th>count</th>\n",
       "      <td>1232</td>\n",
       "      <td>1232</td>\n",
       "      <td>1232</td>\n",
       "      <td>1232</td>\n",
       "      <td>1232</td>\n",
       "      <td>1232</td>\n",
       "      <td>1232</td>\n",
       "      <td>1232</td>\n",
       "      <td>1232</td>\n",
       "      <td>1232</td>\n",
       "      <td>...</td>\n",
       "      <td>1028</td>\n",
       "      <td>985</td>\n",
       "      <td>985</td>\n",
       "      <td>985</td>\n",
       "      <td>984</td>\n",
       "      <td>984</td>\n",
       "      <td>987</td>\n",
       "      <td>1227</td>\n",
       "      <td>1232</td>\n",
       "      <td>1232</td>\n",
       "    </tr>\n",
       "    <tr>\n",
       "      <th>unique</th>\n",
       "      <td>95</td>\n",
       "      <td>15</td>\n",
       "      <td>7</td>\n",
       "      <td>11</td>\n",
       "      <td>7</td>\n",
       "      <td>91</td>\n",
       "      <td>6</td>\n",
       "      <td>1232</td>\n",
       "      <td>2</td>\n",
       "      <td>10</td>\n",
       "      <td>...</td>\n",
       "      <td>7</td>\n",
       "      <td>7</td>\n",
       "      <td>5</td>\n",
       "      <td>6</td>\n",
       "      <td>8</td>\n",
       "      <td>6</td>\n",
       "      <td>12</td>\n",
       "      <td>6</td>\n",
       "      <td>8</td>\n",
       "      <td>2</td>\n",
       "    </tr>\n",
       "    <tr>\n",
       "      <th>top</th>\n",
       "      <td>06.02.2016</td>\n",
       "      <td>Standard Chartered Bank</td>\n",
       "      <td>BFSI</td>\n",
       "      <td>Chennai</td>\n",
       "      <td>Routine</td>\n",
       "      <td>JAVA/J2EE/Struts/Hibernate</td>\n",
       "      <td>Scheduled Walk In</td>\n",
       "      <td>Candidate 460</td>\n",
       "      <td>Male</td>\n",
       "      <td>Chennai</td>\n",
       "      <td>...</td>\n",
       "      <td>Yes</td>\n",
       "      <td>Yes</td>\n",
       "      <td>Yes</td>\n",
       "      <td>Yes</td>\n",
       "      <td>Yes</td>\n",
       "      <td>Yes</td>\n",
       "      <td>Yes</td>\n",
       "      <td>Yes</td>\n",
       "      <td>Yes</td>\n",
       "      <td>Single</td>\n",
       "    </tr>\n",
       "    <tr>\n",
       "      <th>freq</th>\n",
       "      <td>220</td>\n",
       "      <td>903</td>\n",
       "      <td>948</td>\n",
       "      <td>754</td>\n",
       "      <td>1022</td>\n",
       "      <td>220</td>\n",
       "      <td>456</td>\n",
       "      <td>1</td>\n",
       "      <td>964</td>\n",
       "      <td>754</td>\n",
       "      <td>...</td>\n",
       "      <td>917</td>\n",
       "      <td>948</td>\n",
       "      <td>950</td>\n",
       "      <td>935</td>\n",
       "      <td>939</td>\n",
       "      <td>946</td>\n",
       "      <td>932</td>\n",
       "      <td>882</td>\n",
       "      <td>700</td>\n",
       "      <td>767</td>\n",
       "    </tr>\n",
       "  </tbody>\n",
       "</table>\n",
       "<p>4 rows × 23 columns</p>\n",
       "</div>"
      ],
      "text/plain": [
       "       Date of Interview              Client name Industry Location Position  \\\n",
       "count               1232                     1232     1232     1232     1232   \n",
       "unique                95                       15        7       11        7   \n",
       "top           06.02.2016  Standard Chartered Bank     BFSI  Chennai  Routine   \n",
       "freq                 220                      903      948      754     1022   \n",
       "\n",
       "                          Skillset     Interview Type  Name(Cand ID) Gender  \\\n",
       "count                         1232               1232           1232   1232   \n",
       "unique                          91                  6           1232      2   \n",
       "top     JAVA/J2EE/Struts/Hibernate  Scheduled Walk In  Candidate 460   Male   \n",
       "freq                           220                456              1    964   \n",
       "\n",
       "       Current Location  ... permission meetings Reminder Alternate number  \\\n",
       "count              1232  ...       1028      985      985              985   \n",
       "unique               10  ...          7        7        5                6   \n",
       "top             Chennai  ...        Yes      Yes      Yes              Yes   \n",
       "freq                754  ...        917      948      950              935   \n",
       "\n",
       "       Resume printout & JD Venue clear Call letter shared  \\\n",
       "count                   984         984                987   \n",
       "unique                    8           6                 12   \n",
       "top                     Yes         Yes                Yes   \n",
       "freq                    939         946                932   \n",
       "\n",
       "       Expected Attendance Observed Attendance Marital Status  \n",
       "count                 1227                1232           1232  \n",
       "unique                   6                   8              2  \n",
       "top                    Yes                 Yes         Single  \n",
       "freq                   882                 700            767  \n",
       "\n",
       "[4 rows x 23 columns]"
      ]
     },
     "execution_count": 7,
     "metadata": {},
     "output_type": "execute_result"
    }
   ],
   "source": [
    "data1.describe()"
   ]
  },
  {
   "cell_type": "markdown",
   "metadata": {},
   "source": [
    "**Note:**<br/>\n",
    "Count of each column differs as there are missing values in certain columns <br/>\n",
    "Top is the most common value from each column.<br/>\n",
    "Freq is the most common value's frequency.<br/>\n"
   ]
  },
  {
   "cell_type": "markdown",
   "metadata": {},
   "source": [
    "### Data Cleaning<a name='dc'></a>"
   ]
  },
  {
   "cell_type": "code",
   "execution_count": 8,
   "metadata": {},
   "outputs": [
    {
     "name": "stdout",
     "output_type": "stream",
     "text": [
      "['13.02.2015' '19.06.2015' '23.06.2015' '29.06.2015' '25.06.2015'\n",
      " '25.05.16' '25.5.2016' '25-05-2016' '25.05.2016' '25-5-2016' '4/12/2016'\n",
      " '13.04.2016' '27.02.2016' '07.05.2016' '5.5.16' '4.5.16' '21.4.16'\n",
      " '22.4.16' '23.4.16' '15-Apr-16' '19-Apr-16' '20-Apr-16' '21-Apr-16'\n",
      " '22-Apr-16' '25-Apr-16' '18-Apr-16' '11.5.16' '10.5.16' '11.05.16'\n",
      " '12.04.2016' '12.04.2017' '12.04.2018' '12.04.2019' '12.04.2020'\n",
      " '12.04.2021' '12.04.2022' '12.04.2023' '8.5.16' '7.5.16' '19.03.16'\n",
      " '24.05.2016' '5/11/2016' '26/05/2016' '10.05.2016'\n",
      " '28.08.2016 & 09.00 AM' '28.08.2016 & 9.30 AM' '28.8.2016 & 12.00 PM'\n",
      " '28.08.2016 & 09.30 AM' '28.8.2016 & 10.30 AM' '28.8.2016 & 09.30 AM'\n",
      " '28.8.2016 & 04.00 PM' '28.08.2016 & 11.30 AM' '28.08.2016 & 11.00 AM'\n",
      " '28.08.2016 & 10.30 AM' '28.8.2016 & 03.00 PM' '28.08.2016 & 10.00 AM'\n",
      " '28.8.2016 & 02.00 PM' '28.8.2016 & 11.00 AM' '13.06.2016' '02.09.2016'\n",
      " '02.12.2015' '23.02.2016' '22.03.2016' '26.02.2016' '06.02.2016'\n",
      " '21.4.2016' '21/04/16' '21.4.15' '22.01.2016' '3.6.16' '3/6/2016'\n",
      " '09.01.2016' '9/1/2016' '03.04.2015' '13/03/2015' '17/03/2015'\n",
      " '17.03.2015' '18.03.2014' '4.04.15' '16.04.2015' '17.04.2015' '9.04.2015'\n",
      " '5/2/2015' '30.05.2016' '07.06.2016' '20.08.2016' '14.01.2016' '30.1.16 '\n",
      " '30.01.2016' '30/01/16' '30.1.16' '30.1.2016' '30.01.16' '30-1-2016'\n",
      " '06.05.2016']\n"
     ]
    }
   ],
   "source": [
    "print(data1['Date of Interview'].unique())"
   ]
  },
  {
   "cell_type": "markdown",
   "metadata": {},
   "source": [
    "**Observations:**<br/>\n",
    "Prints all unique values from Date column. there are so many formats. Some dates are separated by '-', some by '.', some by '/', some dates are included with time.. Need to fix this"
   ]
  },
  {
   "cell_type": "markdown",
   "metadata": {},
   "source": [
    "#### Cleaning date column\n"
   ]
  },
  {
   "cell_type": "code",
   "execution_count": 9,
   "metadata": {},
   "outputs": [],
   "source": [
    "def clean_date(date):\n",
    "    date = date.str.strip()\n",
    "    date = date.str.split(\"&\").str[0]\n",
    "    date = date.str.replace('–', '/')\n",
    "    date = date.str.replace('.', '/')\n",
    "    date = date.str.replace('Apr', '04')\n",
    "    date = date.str.replace('-', '/')\n",
    "    date = date.str.replace(' ', '/')\n",
    "    date = date.str.replace('//+', '/')\n",
    "    return date\n",
    "\n",
    "data1['Date of Interview'] = clean_date(data1['Date of Interview'])"
   ]
  },
  {
   "cell_type": "markdown",
   "metadata": {},
   "source": [
    "Function to clean the dates. Hope most of the cleaning done in date column"
   ]
  },
  {
   "cell_type": "code",
   "execution_count": 10,
   "metadata": {},
   "outputs": [
    {
     "name": "stdout",
     "output_type": "stream",
     "text": [
      "['13/02/2015' '19/06/2015' '23/06/2015' '29/06/2015' '25/06/2015'\n",
      " '25/05/16' '25/5/2016' '25/05/2016' '4/12/2016' '13/04/2016' '27/02/2016'\n",
      " '07/05/2016' '5/5/16' '4/5/16' '21/4/16' '22/4/16' '23/4/16' '15/04/16'\n",
      " '19/04/16' '20/04/16' '21/04/16' '22/04/16' '25/04/16' '18/04/16'\n",
      " '11/5/16' '10/5/16' '11/05/16' '12/04/2016' '12/04/2017' '12/04/2018'\n",
      " '12/04/2019' '12/04/2020' '12/04/2021' '12/04/2022' '12/04/2023' '8/5/16'\n",
      " '7/5/16' '19/03/16' '24/05/2016' '5/11/2016' '26/05/2016' '10/05/2016'\n",
      " '28/08/2016/' '28/8/2016/' '13/06/2016' '02/09/2016' '02/12/2015'\n",
      " '23/02/2016' '22/03/2016' '26/02/2016' '06/02/2016' '21/4/2016' '21/4/15'\n",
      " '22/01/2016' '3/6/16' '3/6/2016' '09/01/2016' '9/1/2016' '03/04/2015'\n",
      " '13/03/2015' '17/03/2015' '18/03/2014' '4/04/15' '16/04/2015'\n",
      " '17/04/2015' '9/04/2015' '5/2/2015' '30/05/2016' '07/06/2016'\n",
      " '20/08/2016' '14/01/2016' '30/1/16' '30/01/2016' '30/01/16' '30/1/2016'\n",
      " '06/05/2016']\n"
     ]
    }
   ],
   "source": [
    "print(data1['Date of Interview'].unique())"
   ]
  },
  {
   "cell_type": "markdown",
   "metadata": {},
   "source": [
    "**Note:**<br/>\n",
    "Now it seems somewhat okay. But still if you see, some years are formatted in 2 digit format and some are in 4 digit. Need to work on this more."
   ]
  },
  {
   "cell_type": "code",
   "execution_count": 11,
   "metadata": {},
   "outputs": [],
   "source": [
    "# Create new date variables\n",
    "data1['year'] = data1['Date of Interview'].str.split(\"/\").str[2]\n",
    "data1['day'] = data1['Date of Interview'].str.split(\"/\").str[0]\n",
    "data1['month'] = data1['Date of Interview'].str.split(\"/\").str[1]\n",
    "\n",
    "# This will find the short years and replace with long years\n",
    "data1['year'].replace(['16', '15'], ['2016', '2015'], inplace = True)\n",
    "\n",
    "# Finally new Date column\n",
    "data1['date'] = pd.to_datetime(pd.DataFrame({'year': data1['year'],\n",
    "                                            'month': data1['month'],\n",
    "                                            'day': data1['day']}), format = '%Y-%m-%d')"
   ]
  },
  {
   "cell_type": "code",
   "execution_count": 12,
   "metadata": {},
   "outputs": [],
   "source": [
    "data1.drop(['Date of Interview', 'date'], axis = 1, inplace = True)"
   ]
  },
  {
   "cell_type": "code",
   "execution_count": 13,
   "metadata": {},
   "outputs": [
    {
     "data": {
      "text/plain": [
       "2016    1013\n",
       "2015     208\n",
       "2014       4\n",
       "2023       1\n",
       "2018       1\n",
       "2021       1\n",
       "2022       1\n",
       "2020       1\n",
       "2017       1\n",
       "2019       1\n",
       "Name: year, dtype: int64"
      ]
     },
     "execution_count": 13,
     "metadata": {},
     "output_type": "execute_result"
    }
   ],
   "source": [
    "data1['year'].value_counts()"
   ]
  },
  {
   "cell_type": "markdown",
   "metadata": {},
   "source": [
    "**Observations:**<br/>\n",
    "Looking into this value counts function, I noticed that there are dates that are from the future (>2018). I assume that these are typo and should remove them."
   ]
  },
  {
   "cell_type": "code",
   "execution_count": 14,
   "metadata": {},
   "outputs": [
    {
     "data": {
      "text/plain": [
       "Standard Chartered Bank            903\n",
       "Hospira                             75\n",
       "Pfizer                              75\n",
       "Aon Hewitt                          28\n",
       "Flextronics                         23\n",
       "ANZ                                 22\n",
       "Hewitt                              20\n",
       "UST                                 18\n",
       "Prodapt                             17\n",
       "Standard Chartered Bank Chennai     17\n",
       "Astrazeneca                         15\n",
       "Williams Lea                        11\n",
       "Barclays                             5\n",
       "Aon hewitt Gurgaon                   2\n",
       "Woori Bank                           1\n",
       "Name: Client name, dtype: int64"
      ]
     },
     "execution_count": 14,
     "metadata": {},
     "output_type": "execute_result"
    }
   ],
   "source": [
    "data1['Client name'].value_counts()"
   ]
  },
  {
   "cell_type": "markdown",
   "metadata": {},
   "source": [
    "**Observations:**<br/>\n",
    "If you look at the next variable, Client name, it's pretty unclear whether entries 'standard chartered bank' and 'standard chartered bank chennai' are one in the same. Hence I'll go with grouping up the ones that seem like same company."
   ]
  },
  {
   "cell_type": "code",
   "execution_count": 15,
   "metadata": {},
   "outputs": [],
   "source": [
    "data1['Client name'].replace(['Standard Chartered Bank Chennai', 'Aon hewitt Gurgaon', 'Hewitt'], \n",
    "                              ['Standard Chartered Bank', 'Aon Hewitt', 'Aon Hewitt'], inplace = True)\n"
   ]
  },
  {
   "cell_type": "code",
   "execution_count": 16,
   "metadata": {},
   "outputs": [
    {
     "data": {
      "text/plain": [
       "BFSI                        948\n",
       "Pharmaceuticals             165\n",
       "IT Products and Services     45\n",
       "IT Services                  23\n",
       "Electronics                  23\n",
       "Telecom                      17\n",
       "IT                           11\n",
       "Name: Industry, dtype: int64"
      ]
     },
     "execution_count": 16,
     "metadata": {},
     "output_type": "execute_result"
    }
   ],
   "source": [
    "data1['Industry'].value_counts()"
   ]
  },
  {
   "cell_type": "code",
   "execution_count": 17,
   "metadata": {},
   "outputs": [],
   "source": [
    "data1['Industry'].replace(['IT Products and Services', 'IT Services'], \n",
    "                              ['IT', 'IT'], inplace = True)"
   ]
  },
  {
   "cell_type": "code",
   "execution_count": 18,
   "metadata": {},
   "outputs": [
    {
     "data": {
      "text/plain": [
       "Chennai       754\n",
       "Bangalore     291\n",
       "chennai        86\n",
       "Hyderabad      38\n",
       "Gurgaon        33\n",
       "Noida          15\n",
       "- Cochin-       9\n",
       "chennai         3\n",
       "Delhi           1\n",
       "Gurgaonr        1\n",
       "CHENNAI         1\n",
       "Name: Location, dtype: int64"
      ]
     },
     "execution_count": 18,
     "metadata": {},
     "output_type": "execute_result"
    }
   ],
   "source": [
    "data1['Location'].value_counts()"
   ]
  },
  {
   "cell_type": "code",
   "execution_count": 19,
   "metadata": {},
   "outputs": [],
   "source": [
    "data1['Location'].replace(['CHENNAI','chennai','Gurgaonr','- Cochin-'], \n",
    "                              ['Chennai', 'Chennai', 'Gurgaon','Cochin'], inplace = True)"
   ]
  },
  {
   "cell_type": "markdown",
   "metadata": {},
   "source": [
    "Grouped Chennai and Gurgaon in Location column"
   ]
  },
  {
   "cell_type": "code",
   "execution_count": 20,
   "metadata": {},
   "outputs": [
    {
     "data": {
      "text/plain": [
       "Routine                1022\n",
       "Niche                   163\n",
       "Dot Net                  18\n",
       "Trade Finance            11\n",
       "AML                       8\n",
       "Selenium testing          5\n",
       "Production- Sterile       5\n",
       "Name: Position, dtype: int64"
      ]
     },
     "execution_count": 20,
     "metadata": {},
     "output_type": "execute_result"
    }
   ],
   "source": [
    "data1['Position'].value_counts()"
   ]
  },
  {
   "cell_type": "code",
   "execution_count": 21,
   "metadata": {},
   "outputs": [
    {
     "data": {
      "text/plain": [
       "Scheduled Walk In    456\n",
       "Scheduled            370\n",
       "Scheduled Walkin     189\n",
       "Walkin               189\n",
       "Walkin                27\n",
       "Sceduled walkin        1\n",
       "Name: Interview Type, dtype: int64"
      ]
     },
     "execution_count": 21,
     "metadata": {},
     "output_type": "execute_result"
    }
   ],
   "source": [
    "data1['Interview Type'].value_counts()"
   ]
  },
  {
   "cell_type": "code",
   "execution_count": 22,
   "metadata": {},
   "outputs": [],
   "source": [
    "data1['Interview Type'].replace(['Scheduled Walk In', 'Sceduled walkin'],\n",
    "                                       ['Scheduled Walkin', 'Scheduled Walkin'], inplace = True)"
   ]
  },
  {
   "cell_type": "code",
   "execution_count": 23,
   "metadata": {},
   "outputs": [
    {
     "data": {
      "text/plain": [
       "Male      964\n",
       "Female    268\n",
       "Name: Gender, dtype: int64"
      ]
     },
     "execution_count": 23,
     "metadata": {},
     "output_type": "execute_result"
    }
   ],
   "source": [
    "data1['Gender'].value_counts()"
   ]
  },
  {
   "cell_type": "code",
   "execution_count": 24,
   "metadata": {},
   "outputs": [
    {
     "data": {
      "text/plain": [
       "Chennai       754\n",
       "Bangalore     291\n",
       "chennai        86\n",
       "Hyderabad      38\n",
       "Gurgaon        34\n",
       "Noida          15\n",
       "- Cochin-       9\n",
       "chennai         3\n",
       "Delhi           1\n",
       "CHENNAI         1\n",
       "Name: Current Location, dtype: int64"
      ]
     },
     "execution_count": 24,
     "metadata": {},
     "output_type": "execute_result"
    }
   ],
   "source": [
    "data1['Current Location'].value_counts()"
   ]
  },
  {
   "cell_type": "code",
   "execution_count": 25,
   "metadata": {},
   "outputs": [],
   "source": [
    "data1['Current Location'].replace(['- Cochin-'],['Cochin'], inplace = True)"
   ]
  },
  {
   "cell_type": "code",
   "execution_count": 26,
   "metadata": {},
   "outputs": [
    {
     "data": {
      "text/plain": [
       "Chennai          893\n",
       "Bangalore        258\n",
       "Gurgaon           35\n",
       "Visakapatinam     21\n",
       "Noida             15\n",
       "- Cochin-          9\n",
       "Hosur              1\n",
       "Name: Candidate Job Location, dtype: int64"
      ]
     },
     "execution_count": 26,
     "metadata": {},
     "output_type": "execute_result"
    }
   ],
   "source": [
    "data1['Candidate Job Location'].value_counts()"
   ]
  },
  {
   "cell_type": "code",
   "execution_count": 27,
   "metadata": {},
   "outputs": [],
   "source": [
    "data1['Candidate Job Location'].replace(['- Cochin-'],['Cochin'], inplace = True)"
   ]
  },
  {
   "cell_type": "code",
   "execution_count": 28,
   "metadata": {},
   "outputs": [
    {
     "data": {
      "text/plain": [
       "Chennai       852\n",
       "Bangalore     276\n",
       "Hyderabad      40\n",
       "Gurgaon        35\n",
       "Noida          15\n",
       "- Cochin-       9\n",
       "Hosur           5\n",
       "Name: Interview Venue, dtype: int64"
      ]
     },
     "execution_count": 28,
     "metadata": {},
     "output_type": "execute_result"
    }
   ],
   "source": [
    "data1['Interview Venue'].value_counts()"
   ]
  },
  {
   "cell_type": "code",
   "execution_count": 29,
   "metadata": {},
   "outputs": [],
   "source": [
    "data1['Interview Venue'].replace(['- Cochin-'],['Cochin'], inplace = True)"
   ]
  },
  {
   "cell_type": "code",
   "execution_count": 30,
   "metadata": {},
   "outputs": [
    {
     "data": {
      "text/plain": [
       "Chennai          595\n",
       "Hyderabad        172\n",
       "Bangalore        151\n",
       "Gurgaon           26\n",
       "Cuttack           25\n",
       "Cochin            24\n",
       "Pune              22\n",
       "Coimbatore        21\n",
       "Allahabad         20\n",
       "Noida             17\n",
       "Nagercoil         16\n",
       "Visakapatinam     16\n",
       "Kolkata           14\n",
       "Trivandrum        14\n",
       "Trichy            13\n",
       "Vellore           12\n",
       "Mumbai             7\n",
       "Chitoor            6\n",
       "- Cochin-          5\n",
       "Chandigarh         5\n",
       "Ahmedabad          5\n",
       "Pondicherry        5\n",
       "Delhi              4\n",
       "Vijayawada         4\n",
       "Hosur              3\n",
       "Tirupati           3\n",
       "Warangal           3\n",
       "Salem              3\n",
       "Ambur              2\n",
       "Delhi /NCR         2\n",
       "Patna              2\n",
       "Kanpur             1\n",
       "Bhubaneshwar       1\n",
       "Faizabad           1\n",
       "Anantapur          1\n",
       "Ghaziabad          1\n",
       "Tuticorin          1\n",
       "Mysore             1\n",
       "Kurnool            1\n",
       "Lucknow            1\n",
       "Hissar             1\n",
       "Agra               1\n",
       "Belgaum            1\n",
       "Panjim             1\n",
       "Baddi              1\n",
       "Tanjore            1\n",
       "Name: Native, dtype: int64"
      ]
     },
     "execution_count": 30,
     "metadata": {},
     "output_type": "execute_result"
    }
   ],
   "source": [
    "data1['Native'].value_counts()"
   ]
  },
  {
   "cell_type": "markdown",
   "metadata": {},
   "source": [
    "Again -Cochin- in Currect Location, Candidate Job Location, Interview venue, Native columns are changed as Cochin.<br/>\n",
    "I dont understand why always Cochin got messed up."
   ]
  },
  {
   "cell_type": "code",
   "execution_count": 31,
   "metadata": {},
   "outputs": [],
   "source": [
    "data1['Native'].replace(['- Cochin-'],['Cochin'], inplace = True)"
   ]
  },
  {
   "cell_type": "code",
   "execution_count": 32,
   "metadata": {},
   "outputs": [
    {
     "data": {
      "text/plain": [
       "Yes               917\n",
       "No                 79\n",
       "Not yet            18\n",
       "Na                  5\n",
       "Yet to confirm      4\n",
       "yes                 4\n",
       "NO                  1\n",
       "Name: permission, dtype: int64"
      ]
     },
     "execution_count": 32,
     "metadata": {},
     "output_type": "execute_result"
    }
   ],
   "source": [
    "data1['permission'].value_counts()"
   ]
  },
  {
   "cell_type": "code",
   "execution_count": 33,
   "metadata": {},
   "outputs": [],
   "source": [
    "data1['permission'].replace(['NO', 'yes', 'yet to confirm'],['No','Yes', 'Not yet'], inplace = True)"
   ]
  },
  {
   "cell_type": "code",
   "execution_count": 34,
   "metadata": {},
   "outputs": [
    {
     "data": {
      "text/plain": [
       "Yes         948\n",
       "Na           20\n",
       "No            6\n",
       "yes           5\n",
       "Not sure      4\n",
       "cant Say      1\n",
       "Not Sure      1\n",
       "Name: meetings, dtype: int64"
      ]
     },
     "execution_count": 34,
     "metadata": {},
     "output_type": "execute_result"
    }
   ],
   "source": [
    "data1['meetings'].value_counts()"
   ]
  },
  {
   "cell_type": "code",
   "execution_count": 35,
   "metadata": {},
   "outputs": [],
   "source": [
    "data1['meetings'].replace(['Na', 'Not sure','Not Sure', 'cant Say', 'yes'], \n",
    "                              ['NA', 'unsure','unsure', 'unsure', 'Yes'], inplace = True)\n"
   ]
  },
  {
   "cell_type": "code",
   "execution_count": 36,
   "metadata": {},
   "outputs": [
    {
     "data": {
      "text/plain": [
       "Yes        950\n",
       "Na          20\n",
       "No          10\n",
       "yes          4\n",
       "No Dont      1\n",
       "Name: Reminder, dtype: int64"
      ]
     },
     "execution_count": 36,
     "metadata": {},
     "output_type": "execute_result"
    }
   ],
   "source": [
    "data1['Reminder'].value_counts()"
   ]
  },
  {
   "cell_type": "code",
   "execution_count": 37,
   "metadata": {},
   "outputs": [],
   "source": [
    "data1['Reminder'].replace(['Na', 'No Dont', 'yes'], \n",
    "                              ['NA', 'No', 'Yes'], inplace = True)"
   ]
  },
  {
   "cell_type": "code",
   "execution_count": 38,
   "metadata": {},
   "outputs": [
    {
     "data": {
      "text/plain": [
       "Yes                          935\n",
       "No                            27\n",
       "Na                            19\n",
       "No I have only thi number      2\n",
       "na                             1\n",
       "yes                            1\n",
       "Name: Alternate number, dtype: int64"
      ]
     },
     "execution_count": 38,
     "metadata": {},
     "output_type": "execute_result"
    }
   ],
   "source": [
    "data1['Alternate number'].value_counts()"
   ]
  },
  {
   "cell_type": "code",
   "execution_count": 39,
   "metadata": {},
   "outputs": [],
   "source": [
    "data1['Alternate number'].replace(['Na','na','No I have only thi number', 'yes'], \n",
    "                              ['NA', 'NA','No', 'Yes'], inplace = True)"
   ]
  },
  {
   "cell_type": "code",
   "execution_count": 40,
   "metadata": {},
   "outputs": [
    {
     "data": {
      "text/plain": [
       "Yes                      939\n",
       "Na                        19\n",
       "No                        16\n",
       "Not Yet                    4\n",
       "Not yet                    2\n",
       "yes                        2\n",
       "No- will take it soon      1\n",
       "na                         1\n",
       "Name: Resume printout & JD, dtype: int64"
      ]
     },
     "execution_count": 40,
     "metadata": {},
     "output_type": "execute_result"
    }
   ],
   "source": [
    "data1['Resume printout & JD'].value_counts()"
   ]
  },
  {
   "cell_type": "code",
   "execution_count": 41,
   "metadata": {},
   "outputs": [],
   "source": [
    "data1['Resume printout & JD'].replace(['Na','Not Yet','na','yes','No- will take it soon'], \n",
    "                              ['NA', 'Not yet', 'NA', 'Yes', 'No'], inplace = True)"
   ]
  },
  {
   "cell_type": "code",
   "execution_count": 42,
   "metadata": {},
   "outputs": [
    {
     "data": {
      "text/plain": [
       "Yes                    946\n",
       "Na                      19\n",
       "No                      14\n",
       "No- I need to check      2\n",
       "yes                      2\n",
       "na                       1\n",
       "Name: Venue clear, dtype: int64"
      ]
     },
     "execution_count": 42,
     "metadata": {},
     "output_type": "execute_result"
    }
   ],
   "source": [
    "data1['Venue clear'].value_counts()"
   ]
  },
  {
   "cell_type": "code",
   "execution_count": 43,
   "metadata": {},
   "outputs": [],
   "source": [
    "data1['Venue clear'].replace(['Na', 'na', 'no', 'yes', 'No- I need to check'], \n",
    "                              ['NA', 'NA','No', 'Yes', 'No'], inplace = True)"
   ]
  },
  {
   "cell_type": "code",
   "execution_count": 44,
   "metadata": {},
   "outputs": [
    {
     "data": {
      "text/plain": [
       "Yes               932\n",
       "Na                 19\n",
       "No                 17\n",
       "Not Sure            8\n",
       "Need To Check       3\n",
       "Not yet             2\n",
       "no                  1\n",
       "Not sure            1\n",
       "Yet to Check        1\n",
       "na                  1\n",
       "Havent Checked      1\n",
       "yes                 1\n",
       "Name: Call letter shared, dtype: int64"
      ]
     },
     "execution_count": 44,
     "metadata": {},
     "output_type": "execute_result"
    }
   ],
   "source": [
    "data1['Call letter shared'].value_counts()"
   ]
  },
  {
   "cell_type": "code",
   "execution_count": 45,
   "metadata": {},
   "outputs": [],
   "source": [
    "data1['Call letter shared'].replace(['Na', 'na', 'no', 'yes', 'Need To Check', 'Not yet', 'Not Sure'], \n",
    "                              ['NA', 'NA','No', 'Yes', 'Need to Check', 'No', 'Not sure'], inplace = True)"
   ]
  },
  {
   "cell_type": "code",
   "execution_count": 46,
   "metadata": {},
   "outputs": [
    {
     "data": {
      "text/plain": [
       "Yes          882\n",
       "Uncertain    250\n",
       "No            59\n",
       "NO            34\n",
       "10.30 Am       1\n",
       "yes            1\n",
       "Name: Expected Attendance, dtype: int64"
      ]
     },
     "execution_count": 46,
     "metadata": {},
     "output_type": "execute_result"
    }
   ],
   "source": [
    "data1['Expected Attendance'].value_counts()"
   ]
  },
  {
   "cell_type": "code",
   "execution_count": 47,
   "metadata": {},
   "outputs": [],
   "source": [
    "data1['Expected Attendance'].replace(['NO', 'yes','10.30 am'], \n",
    "                              ['No', 'Yes', 'NA'], inplace = True)"
   ]
  },
  {
   "cell_type": "code",
   "execution_count": 48,
   "metadata": {},
   "outputs": [
    {
     "data": {
      "text/plain": [
       "Yes     700\n",
       "No      401\n",
       "yes      81\n",
       "NO       35\n",
       "no        7\n",
       "No        6\n",
       "no        1\n",
       "yes       1\n",
       "Name: Observed Attendance, dtype: int64"
      ]
     },
     "execution_count": 48,
     "metadata": {},
     "output_type": "execute_result"
    }
   ],
   "source": [
    "data1['Observed Attendance'].value_counts()"
   ]
  },
  {
   "cell_type": "code",
   "execution_count": 49,
   "metadata": {},
   "outputs": [],
   "source": [
    "data1['Observed Attendance'].replace(['NO', 'yes','no', 'No ', 'no ', 'yes '], \n",
    "                              ['No', 'Yes', 'No', 'No', 'No', 'Yes'], inplace = True)"
   ]
  },
  {
   "cell_type": "code",
   "execution_count": 50,
   "metadata": {},
   "outputs": [
    {
     "data": {
      "text/plain": [
       "Single     767\n",
       "Married    465\n",
       "Name: Marital Status, dtype: int64"
      ]
     },
     "execution_count": 50,
     "metadata": {},
     "output_type": "execute_result"
    }
   ],
   "source": [
    "data1['Marital Status'].value_counts()"
   ]
  },
  {
   "cell_type": "markdown",
   "metadata": {},
   "source": [
    "**Note:**<br/>\n",
    "\n",
    "Now the last column, the most difficult- Skillset. I assume whether skillset column is going to be that useful in the model. As there are ~100 unique values of Skillset and cleaning will involve working through all of them.. Lets see how well model can perform without Skillset first.\n",
    "\n",
    "Also dropped unrequired columns"
   ]
  },
  {
   "cell_type": "code",
   "execution_count": 51,
   "metadata": {},
   "outputs": [],
   "source": [
    "data2 = data1.drop(['Skillset', 'Name(Cand ID)'], axis = 1)"
   ]
  },
  {
   "cell_type": "markdown",
   "metadata": {},
   "source": [
    "###  Question: Remove missing values from the data frame if any"
   ]
  },
  {
   "cell_type": "code",
   "execution_count": 52,
   "metadata": {},
   "outputs": [
    {
     "data": {
      "text/plain": [
       "Client name                 0\n",
       "Industry                    0\n",
       "Location                    0\n",
       "Position                    0\n",
       "Interview Type              0\n",
       "Gender                      0\n",
       "Current Location            0\n",
       "Candidate Job Location      0\n",
       "Interview Venue             0\n",
       "Native                      0\n",
       "permission                204\n",
       "meetings                  267\n",
       "Reminder                  267\n",
       "Alternate number          267\n",
       "Resume printout & JD      268\n",
       "Venue clear               268\n",
       "Call letter shared        265\n",
       "Expected Attendance         5\n",
       "Observed Attendance         0\n",
       "Marital Status              0\n",
       "year                        0\n",
       "day                         0\n",
       "month                       0\n",
       "dtype: int64"
      ]
     },
     "execution_count": 52,
     "metadata": {},
     "output_type": "execute_result"
    }
   ],
   "source": [
    "data2.replace(\"NA\", np.nan,inplace = True)\n",
    "data2.isnull().sum()"
   ]
  },
  {
   "cell_type": "code",
   "execution_count": 53,
   "metadata": {},
   "outputs": [],
   "source": [
    "data3 = data2.ffill().bfill()"
   ]
  },
  {
   "cell_type": "markdown",
   "metadata": {},
   "source": [
    "**Note:** <br/>\n",
    "Imputed missing values using Forward and Backward fill"
   ]
  },
  {
   "cell_type": "code",
   "execution_count": 54,
   "metadata": {},
   "outputs": [],
   "source": [
    "cat_columns = data3[['Client name', 'Industry', 'Location', 'Position','Interview Type', 'Gender', 'Current Location', 'Candidate Job Location',\n",
    "                    'Interview Venue', 'Native', 'permission', 'meetings', 'Reminder', 'Alternate number', 'Resume printout & JD', 'Venue clear',\n",
    "                    'Call letter shared', 'Expected Attendance', 'Marital Status', 'Observed Attendance']]"
   ]
  },
  {
   "cell_type": "code",
   "execution_count": 55,
   "metadata": {},
   "outputs": [],
   "source": [
    "num_columns = data3[['year', 'day', 'month']]"
   ]
  },
  {
   "cell_type": "markdown",
   "metadata": {},
   "source": [
    "### Question: Perform EDA and find any correlation"
   ]
  },
  {
   "cell_type": "code",
   "execution_count": 60,
   "metadata": {},
   "outputs": [
    {
     "data": {
      "image/png": "[encoded data removed]",
      "text/plain": [
       "<Figure size 432x288 with 1 Axes>"
      ]
     },
     "metadata": {
      "needs_background": "light"
     },
     "output_type": "display_data"
    }
   ],
   "source": [
    "sns.countplot(cat_columns['permission'])\n",
    "plt.show()"
   ]
  },
  {
   "cell_type": "code",
   "execution_count": 61,
   "metadata": {},
   "outputs": [
    {
     "data": {
      "image/png": "[encoded data removed]",
      "text/plain": [
       "<Figure size 432x288 with 1 Axes>"
      ]
     },
     "metadata": {
      "needs_background": "light"
     },
     "output_type": "display_data"
    }
   ],
   "source": [
    "gen = data3.groupby(['Gender', 'Observed Attendance']).size().unstack()\n",
    "gen.plot(kind = 'bar', stacked = True)\n",
    "N = 2\n",
    "ind = np.arange(N)\n",
    "plt.xticks(ind, ('Female', 'Male'))\n",
    "plt.ylabel('Count', fontsize=12)\n",
    "plt.xlabel('Gender')\n",
    "plt.show()"
   ]
  },
  {
   "cell_type": "code",
   "execution_count": 62,
   "metadata": {},
   "outputs": [
    {
     "data": {
      "text/html": [
       "<div>\n",
       "<style scoped>\n",
       "    .dataframe tbody tr th:only-of-type {\n",
       "        vertical-align: middle;\n",
       "    }\n",
       "\n",
       "    .dataframe tbody tr th {\n",
       "        vertical-align: top;\n",
       "    }\n",
       "\n",
       "    .dataframe thead th {\n",
       "        text-align: right;\n",
       "    }\n",
       "</style>\n",
       "<table border=\"1\" class=\"dataframe\">\n",
       "  <thead>\n",
       "    <tr style=\"text-align: right;\">\n",
       "      <th>Observed Attendance</th>\n",
       "      <th>No</th>\n",
       "      <th>Yes</th>\n",
       "      <th>perc</th>\n",
       "    </tr>\n",
       "    <tr>\n",
       "      <th>Gender</th>\n",
       "      <th></th>\n",
       "      <th></th>\n",
       "      <th></th>\n",
       "    </tr>\n",
       "  </thead>\n",
       "  <tbody>\n",
       "    <tr>\n",
       "      <th>Female</th>\n",
       "      <td>99</td>\n",
       "      <td>169</td>\n",
       "      <td>0.369403</td>\n",
       "    </tr>\n",
       "    <tr>\n",
       "      <th>Male</th>\n",
       "      <td>351</td>\n",
       "      <td>613</td>\n",
       "      <td>0.364108</td>\n",
       "    </tr>\n",
       "  </tbody>\n",
       "</table>\n",
       "</div>"
      ],
      "text/plain": [
       "Observed Attendance   No  Yes      perc\n",
       "Gender                                 \n",
       "Female                99  169  0.369403\n",
       "Male                 351  613  0.364108"
      ]
     },
     "execution_count": 62,
     "metadata": {},
     "output_type": "execute_result"
    }
   ],
   "source": [
    "gen['perc'] = (gen['No']/(gen['Yes'] + gen['No']))\n",
    "gen"
   ]
  },
  {
   "cell_type": "markdown",
   "metadata": {},
   "source": [
    "**Observations:**<br/>\n",
    "It has been noted that 36 % of both male and female candidates are not showing up."
   ]
  },
  {
   "cell_type": "markdown",
   "metadata": {},
   "source": [
    "**Marital Status Vs Observed Attendance**"
   ]
  },
  {
   "cell_type": "code",
   "execution_count": 63,
   "metadata": {},
   "outputs": [
    {
     "data": {
      "text/plain": [
       "Text(0.5, 0, 'Marital Status')"
      ]
     },
     "execution_count": 63,
     "metadata": {},
     "output_type": "execute_result"
    },
    {
     "data": {
      "image/png": "[encoded data removed]",
      "text/plain": [
       "<Figure size 432x288 with 1 Axes>"
      ]
     },
     "metadata": {
      "needs_background": "light"
     },
     "output_type": "display_data"
    }
   ],
   "source": [
    "mar = data3.groupby(['Marital Status', 'Observed Attendance']).size().unstack()\n",
    "mar.plot(kind = 'bar', stacked = True)\n",
    "N = 2\n",
    "ind = np.arange(N)\n",
    "plt.xticks(ind, ('Married', 'Single'))\n",
    "plt.ylabel('Count', fontsize=12)\n",
    "plt.xlabel('Marital Status')"
   ]
  },
  {
   "cell_type": "code",
   "execution_count": 64,
   "metadata": {},
   "outputs": [
    {
     "data": {
      "text/html": [
       "<div>\n",
       "<style scoped>\n",
       "    .dataframe tbody tr th:only-of-type {\n",
       "        vertical-align: middle;\n",
       "    }\n",
       "\n",
       "    .dataframe tbody tr th {\n",
       "        vertical-align: top;\n",
       "    }\n",
       "\n",
       "    .dataframe thead th {\n",
       "        text-align: right;\n",
       "    }\n",
       "</style>\n",
       "<table border=\"1\" class=\"dataframe\">\n",
       "  <thead>\n",
       "    <tr style=\"text-align: right;\">\n",
       "      <th>Observed Attendance</th>\n",
       "      <th>No</th>\n",
       "      <th>Yes</th>\n",
       "      <th>perc</th>\n",
       "    </tr>\n",
       "    <tr>\n",
       "      <th>Marital Status</th>\n",
       "      <th></th>\n",
       "      <th></th>\n",
       "      <th></th>\n",
       "    </tr>\n",
       "  </thead>\n",
       "  <tbody>\n",
       "    <tr>\n",
       "      <th>Married</th>\n",
       "      <td>176</td>\n",
       "      <td>289</td>\n",
       "      <td>0.378495</td>\n",
       "    </tr>\n",
       "    <tr>\n",
       "      <th>Single</th>\n",
       "      <td>274</td>\n",
       "      <td>493</td>\n",
       "      <td>0.357236</td>\n",
       "    </tr>\n",
       "  </tbody>\n",
       "</table>\n",
       "</div>"
      ],
      "text/plain": [
       "Observed Attendance   No  Yes      perc\n",
       "Marital Status                         \n",
       "Married              176  289  0.378495\n",
       "Single               274  493  0.357236"
      ]
     },
     "execution_count": 64,
     "metadata": {},
     "output_type": "execute_result"
    }
   ],
   "source": [
    "mar['perc'] = (mar['No']/(mar['Yes'] + mar['No']))\n",
    "mar"
   ]
  },
  {
   "cell_type": "markdown",
   "metadata": {},
   "source": [
    "**Observations:**<br/>\n",
    "The above graph states that Married candidates are not showing up to interviews than Single. Its because married candidates might have some responsibilities or stuck with any work often."
   ]
  },
  {
   "cell_type": "markdown",
   "metadata": {},
   "source": [
    "**Call letter shared vs Observed Attendance**"
   ]
  },
  {
   "cell_type": "code",
   "execution_count": 65,
   "metadata": {},
   "outputs": [
    {
     "data": {
      "image/png": "[encoded data removed]",
      "text/plain": [
       "<Figure size 432x288 with 1 Axes>"
      ]
     },
     "metadata": {
      "needs_background": "light"
     },
     "output_type": "display_data"
    }
   ],
   "source": [
    "call = data3.groupby(['Call letter shared', 'Observed Attendance']).size().unstack()\n",
    "call.plot(kind = 'bar', stacked = True)\n",
    "plt.show()"
   ]
  },
  {
   "cell_type": "markdown",
   "metadata": {},
   "source": [
    "**Observations**<br/>\n",
    "It is quite surprising that 35% of candidates who got their call letter, did not show up. Reason might be interview venue was too far. "
   ]
  },
  {
   "cell_type": "markdown",
   "metadata": {},
   "source": [
    "**Expected Attendance Vs Observed Attendance**"
   ]
  },
  {
   "cell_type": "code",
   "execution_count": 66,
   "metadata": {},
   "outputs": [
    {
     "data": {
      "image/png": "[encoded data removed]",
      "text/plain": [
       "<Figure size 432x288 with 1 Axes>"
      ]
     },
     "metadata": {
      "needs_background": "light"
     },
     "output_type": "display_data"
    }
   ],
   "source": [
    "att = data3.groupby(['Expected Attendance', 'Observed Attendance']).size().unstack()\n",
    "att.plot(kind = 'bar', stacked = True)\n",
    "plt.show()"
   ]
  },
  {
   "cell_type": "markdown",
   "metadata": {},
   "source": [
    "**Observations:**\n",
    "As per our data, most of the candidates who were expected to not to come, they didnt come. But at the same time, some of the candidates who were expected to come also didnt show up. "
   ]
  },
  {
   "cell_type": "markdown",
   "metadata": {},
   "source": [
    "**Interview Venue Vs Observed Attendance**"
   ]
  },
  {
   "cell_type": "code",
   "execution_count": 67,
   "metadata": {},
   "outputs": [
    {
     "data": {
      "text/plain": [
       "<matplotlib.axes._subplots.AxesSubplot at 0x1dfbe8a0c18>"
      ]
     },
     "execution_count": 67,
     "metadata": {},
     "output_type": "execute_result"
    },
    {
     "data": {
      "image/png": "[encoded data removed]",
      "text/plain": [
       "<Figure size 432x288 with 1 Axes>"
      ]
     },
     "metadata": {
      "needs_background": "light"
     },
     "output_type": "display_data"
    }
   ],
   "source": [
    "ven = data3.groupby(['Interview Venue', 'Observed Attendance']).size().unstack()\n",
    "ven.plot(kind = 'bar', stacked = True)"
   ]
  },
  {
   "cell_type": "code",
   "execution_count": 68,
   "metadata": {},
   "outputs": [
    {
     "data": {
      "text/html": [
       "<div>\n",
       "<style scoped>\n",
       "    .dataframe tbody tr th:only-of-type {\n",
       "        vertical-align: middle;\n",
       "    }\n",
       "\n",
       "    .dataframe tbody tr th {\n",
       "        vertical-align: top;\n",
       "    }\n",
       "\n",
       "    .dataframe thead th {\n",
       "        text-align: right;\n",
       "    }\n",
       "</style>\n",
       "<table border=\"1\" class=\"dataframe\">\n",
       "  <thead>\n",
       "    <tr style=\"text-align: right;\">\n",
       "      <th>Observed Attendance</th>\n",
       "      <th>No</th>\n",
       "      <th>Yes</th>\n",
       "      <th>perc</th>\n",
       "    </tr>\n",
       "    <tr>\n",
       "      <th>Interview Venue</th>\n",
       "      <th></th>\n",
       "      <th></th>\n",
       "      <th></th>\n",
       "    </tr>\n",
       "  </thead>\n",
       "  <tbody>\n",
       "    <tr>\n",
       "      <th>- Cochin-</th>\n",
       "      <td>3.0</td>\n",
       "      <td>6.0</td>\n",
       "      <td>0.333333</td>\n",
       "    </tr>\n",
       "    <tr>\n",
       "      <th>Bangalore</th>\n",
       "      <td>94.0</td>\n",
       "      <td>182.0</td>\n",
       "      <td>0.340580</td>\n",
       "    </tr>\n",
       "    <tr>\n",
       "      <th>Chennai</th>\n",
       "      <td>325.0</td>\n",
       "      <td>527.0</td>\n",
       "      <td>0.381455</td>\n",
       "    </tr>\n",
       "    <tr>\n",
       "      <th>Gurgaon</th>\n",
       "      <td>10.0</td>\n",
       "      <td>25.0</td>\n",
       "      <td>0.285714</td>\n",
       "    </tr>\n",
       "    <tr>\n",
       "      <th>Hosur</th>\n",
       "      <td>5.0</td>\n",
       "      <td>NaN</td>\n",
       "      <td>NaN</td>\n",
       "    </tr>\n",
       "    <tr>\n",
       "      <th>Hyderabad</th>\n",
       "      <td>12.0</td>\n",
       "      <td>28.0</td>\n",
       "      <td>0.300000</td>\n",
       "    </tr>\n",
       "    <tr>\n",
       "      <th>Noida</th>\n",
       "      <td>1.0</td>\n",
       "      <td>14.0</td>\n",
       "      <td>0.066667</td>\n",
       "    </tr>\n",
       "  </tbody>\n",
       "</table>\n",
       "</div>"
      ],
      "text/plain": [
       "Observed Attendance     No    Yes      perc\n",
       "Interview Venue                            \n",
       "- Cochin-              3.0    6.0  0.333333\n",
       "Bangalore             94.0  182.0  0.340580\n",
       "Chennai              325.0  527.0  0.381455\n",
       "Gurgaon               10.0   25.0  0.285714\n",
       "Hosur                  5.0    NaN       NaN\n",
       "Hyderabad             12.0   28.0  0.300000\n",
       "Noida                  1.0   14.0  0.066667"
      ]
     },
     "execution_count": 68,
     "metadata": {},
     "output_type": "execute_result"
    }
   ],
   "source": [
    "ven['perc'] = (ven['No']/(ven['Yes'] + ven['No']))\n",
    "ven"
   ]
  },
  {
   "cell_type": "code",
   "execution_count": 69,
   "metadata": {},
   "outputs": [
    {
     "ename": "SyntaxError",
     "evalue": "invalid syntax (<ipython-input-69-998c12f0cd3b>, line 1)",
     "output_type": "error",
     "traceback": [
      "\u001b[1;36m  File \u001b[1;32m\"<ipython-input-69-998c12f0cd3b>\"\u001b[1;36m, line \u001b[1;32m1\u001b[0m\n\u001b[1;33m    **Observations:**<br/>\u001b[0m\n\u001b[1;37m     ^\u001b[0m\n\u001b[1;31mSyntaxError\u001b[0m\u001b[1;31m:\u001b[0m invalid syntax\n"
     ]
    }
   ],
   "source": [
    "**Observations:**<br/>\n",
    "Above graph shows that,<br/> \n",
    "99% Candidates showed up in Noida<br/>\n",
    "38% of candidates didnt show up in Chennai location.<br/>\n",
    "34% of candidates didnt show up in Bangalore location and so on."
   ]
  },
  {
   "cell_type": "markdown",
   "metadata": {},
   "source": [
    "**Venue clear Vs Observed Attendance**"
   ]
  },
  {
   "cell_type": "code",
   "execution_count": 70,
   "metadata": {},
   "outputs": [
    {
     "data": {
      "image/png": "[encoded data removed]",
      "text/plain": [
       "<Figure size 432x288 with 1 Axes>"
      ]
     },
     "metadata": {
      "needs_background": "light"
     },
     "output_type": "display_data"
    }
   ],
   "source": [
    "venu = data3.groupby(['Venue clear', 'Observed Attendance']).size().unstack()\n",
    "venu.plot(kind = 'bar', stacked = True)\n",
    "plt.show()"
   ]
  },
  {
   "cell_type": "code",
   "execution_count": 71,
   "metadata": {},
   "outputs": [
    {
     "data": {
      "text/html": [
       "<div>\n",
       "<style scoped>\n",
       "    .dataframe tbody tr th:only-of-type {\n",
       "        vertical-align: middle;\n",
       "    }\n",
       "\n",
       "    .dataframe tbody tr th {\n",
       "        vertical-align: top;\n",
       "    }\n",
       "\n",
       "    .dataframe thead th {\n",
       "        text-align: right;\n",
       "    }\n",
       "</style>\n",
       "<table border=\"1\" class=\"dataframe\">\n",
       "  <thead>\n",
       "    <tr style=\"text-align: right;\">\n",
       "      <th>Observed Attendance</th>\n",
       "      <th>No</th>\n",
       "      <th>Yes</th>\n",
       "      <th>perc</th>\n",
       "    </tr>\n",
       "    <tr>\n",
       "      <th>Venue clear</th>\n",
       "      <th></th>\n",
       "      <th></th>\n",
       "      <th></th>\n",
       "    </tr>\n",
       "  </thead>\n",
       "  <tbody>\n",
       "    <tr>\n",
       "      <th>No</th>\n",
       "      <td>16</td>\n",
       "      <td>4</td>\n",
       "      <td>0.800000</td>\n",
       "    </tr>\n",
       "    <tr>\n",
       "      <th>Yes</th>\n",
       "      <td>434</td>\n",
       "      <td>778</td>\n",
       "      <td>0.358086</td>\n",
       "    </tr>\n",
       "  </tbody>\n",
       "</table>\n",
       "</div>"
      ],
      "text/plain": [
       "Observed Attendance   No  Yes      perc\n",
       "Venue clear                            \n",
       "No                    16    4  0.800000\n",
       "Yes                  434  778  0.358086"
      ]
     },
     "execution_count": 71,
     "metadata": {},
     "output_type": "execute_result"
    }
   ],
   "source": [
    "venu['perc'] = (venu['No']/(venu['Yes'] + venu['No']))\n",
    "venu"
   ]
  },
  {
   "cell_type": "markdown",
   "metadata": {},
   "source": [
    "**Observations:**<br/>\n",
    "It is quite interesting that 35% of candidates who know the venue clearly didnt show up to interview.    "
   ]
  },
  {
   "cell_type": "markdown",
   "metadata": {},
   "source": [
    "**Month vs Observed Attendance**"
   ]
  },
  {
   "cell_type": "code",
   "execution_count": 72,
   "metadata": {},
   "outputs": [
    {
     "data": {
      "text/plain": [
       "02    304\n",
       "04    178\n",
       "06    107\n",
       "12    105\n",
       "01     89\n",
       "05     86\n",
       "4      68\n",
       "5      66\n",
       "03     63\n",
       "09     43\n",
       "08     36\n",
       "1      32\n",
       "11     25\n",
       "6      14\n",
       "8       9\n",
       "2       7\n",
       "Name: month, dtype: int64"
      ]
     },
     "execution_count": 72,
     "metadata": {},
     "output_type": "execute_result"
    }
   ],
   "source": [
    "data3['month'].value_counts()"
   ]
  },
  {
   "cell_type": "code",
   "execution_count": 73,
   "metadata": {},
   "outputs": [],
   "source": [
    "data3['month'].replace(['5', '4','1','6', '8'], \n",
    "                        ['05', '04', '01', '06', '08'], inplace = True)"
   ]
  },
  {
   "cell_type": "code",
   "execution_count": 74,
   "metadata": {},
   "outputs": [
    {
     "data": {
      "text/plain": [
       "<matplotlib.axes._subplots.AxesSubplot at 0x1dfbe88d8d0>"
      ]
     },
     "execution_count": 74,
     "metadata": {},
     "output_type": "execute_result"
    },
    {
     "data": {
      "image/png": "[encoded data removed]",
      "text/plain": [
       "<Figure size 432x288 with 1 Axes>"
      ]
     },
     "metadata": {
      "needs_background": "light"
     },
     "output_type": "display_data"
    }
   ],
   "source": [
    "mon = data3.groupby(['month', 'Observed Attendance']).size().unstack()\n",
    "mon.plot(kind = 'bar', stacked = True)"
   ]
  },
  {
   "cell_type": "code",
   "execution_count": 75,
   "metadata": {},
   "outputs": [
    {
     "data": {
      "text/html": [
       "<div>\n",
       "<style scoped>\n",
       "    .dataframe tbody tr th:only-of-type {\n",
       "        vertical-align: middle;\n",
       "    }\n",
       "\n",
       "    .dataframe tbody tr th {\n",
       "        vertical-align: top;\n",
       "    }\n",
       "\n",
       "    .dataframe thead th {\n",
       "        text-align: right;\n",
       "    }\n",
       "</style>\n",
       "<table border=\"1\" class=\"dataframe\">\n",
       "  <thead>\n",
       "    <tr style=\"text-align: right;\">\n",
       "      <th>Observed Attendance</th>\n",
       "      <th>No</th>\n",
       "      <th>Yes</th>\n",
       "      <th>perc</th>\n",
       "    </tr>\n",
       "    <tr>\n",
       "      <th>month</th>\n",
       "      <th></th>\n",
       "      <th></th>\n",
       "      <th></th>\n",
       "    </tr>\n",
       "  </thead>\n",
       "  <tbody>\n",
       "    <tr>\n",
       "      <th>01</th>\n",
       "      <td>39</td>\n",
       "      <td>82</td>\n",
       "      <td>0.322314</td>\n",
       "    </tr>\n",
       "    <tr>\n",
       "      <th>02</th>\n",
       "      <td>114</td>\n",
       "      <td>190</td>\n",
       "      <td>0.375000</td>\n",
       "    </tr>\n",
       "    <tr>\n",
       "      <th>03</th>\n",
       "      <td>26</td>\n",
       "      <td>37</td>\n",
       "      <td>0.412698</td>\n",
       "    </tr>\n",
       "    <tr>\n",
       "      <th>04</th>\n",
       "      <td>108</td>\n",
       "      <td>138</td>\n",
       "      <td>0.439024</td>\n",
       "    </tr>\n",
       "    <tr>\n",
       "      <th>05</th>\n",
       "      <td>40</td>\n",
       "      <td>112</td>\n",
       "      <td>0.263158</td>\n",
       "    </tr>\n",
       "    <tr>\n",
       "      <th>06</th>\n",
       "      <td>41</td>\n",
       "      <td>80</td>\n",
       "      <td>0.338843</td>\n",
       "    </tr>\n",
       "    <tr>\n",
       "      <th>08</th>\n",
       "      <td>16</td>\n",
       "      <td>29</td>\n",
       "      <td>0.355556</td>\n",
       "    </tr>\n",
       "    <tr>\n",
       "      <th>09</th>\n",
       "      <td>16</td>\n",
       "      <td>27</td>\n",
       "      <td>0.372093</td>\n",
       "    </tr>\n",
       "    <tr>\n",
       "      <th>11</th>\n",
       "      <td>12</td>\n",
       "      <td>13</td>\n",
       "      <td>0.480000</td>\n",
       "    </tr>\n",
       "    <tr>\n",
       "      <th>12</th>\n",
       "      <td>35</td>\n",
       "      <td>70</td>\n",
       "      <td>0.333333</td>\n",
       "    </tr>\n",
       "    <tr>\n",
       "      <th>2</th>\n",
       "      <td>3</td>\n",
       "      <td>4</td>\n",
       "      <td>0.428571</td>\n",
       "    </tr>\n",
       "  </tbody>\n",
       "</table>\n",
       "</div>"
      ],
      "text/plain": [
       "Observed Attendance   No  Yes      perc\n",
       "month                                  \n",
       "01                    39   82  0.322314\n",
       "02                   114  190  0.375000\n",
       "03                    26   37  0.412698\n",
       "04                   108  138  0.439024\n",
       "05                    40  112  0.263158\n",
       "06                    41   80  0.338843\n",
       "08                    16   29  0.355556\n",
       "09                    16   27  0.372093\n",
       "11                    12   13  0.480000\n",
       "12                    35   70  0.333333\n",
       "2                      3    4  0.428571"
      ]
     },
     "execution_count": 75,
     "metadata": {},
     "output_type": "execute_result"
    }
   ],
   "source": [
    "mon['perc'] = (mon['No']/(mon['Yes'] + mon['No']))\n",
    "mon"
   ]
  },
  {
   "cell_type": "markdown",
   "metadata": {},
   "source": [
    "**Observations:**<br/>\n",
    "Based on the above results, it is to note that 42% of the candidates didnt show up in December and April months, 41% didnt show up in March and 37% didnt show in February, September months and so on..\n",
    "\n",
    "Might be it is due to summer and winter seasons."
   ]
  },
  {
   "cell_type": "markdown",
   "metadata": {},
   "source": [
    "**Reminder Vs Observed Attendance**"
   ]
  },
  {
   "cell_type": "code",
   "execution_count": 76,
   "metadata": {},
   "outputs": [
    {
     "data": {
      "text/plain": [
       "<matplotlib.axes._subplots.AxesSubplot at 0x1dfbe7460f0>"
      ]
     },
     "execution_count": 76,
     "metadata": {},
     "output_type": "execute_result"
    },
    {
     "data": {
      "image/png": "[encoded data removed]",
      "text/plain": [
       "<Figure size 432x288 with 1 Axes>"
      ]
     },
     "metadata": {
      "needs_background": "light"
     },
     "output_type": "display_data"
    }
   ],
   "source": [
    "rem = data3.groupby(['Reminder', 'Observed Attendance']).size().unstack()\n",
    "rem.plot(kind = 'bar', stacked = True)"
   ]
  },
  {
   "cell_type": "code",
   "execution_count": 77,
   "metadata": {},
   "outputs": [
    {
     "data": {
      "text/html": [
       "<div>\n",
       "<style scoped>\n",
       "    .dataframe tbody tr th:only-of-type {\n",
       "        vertical-align: middle;\n",
       "    }\n",
       "\n",
       "    .dataframe tbody tr th {\n",
       "        vertical-align: top;\n",
       "    }\n",
       "\n",
       "    .dataframe thead th {\n",
       "        text-align: right;\n",
       "    }\n",
       "</style>\n",
       "<table border=\"1\" class=\"dataframe\">\n",
       "  <thead>\n",
       "    <tr style=\"text-align: right;\">\n",
       "      <th>Observed Attendance</th>\n",
       "      <th>No</th>\n",
       "      <th>Yes</th>\n",
       "      <th>perc</th>\n",
       "    </tr>\n",
       "    <tr>\n",
       "      <th>Reminder</th>\n",
       "      <th></th>\n",
       "      <th></th>\n",
       "      <th></th>\n",
       "    </tr>\n",
       "  </thead>\n",
       "  <tbody>\n",
       "    <tr>\n",
       "      <th>No</th>\n",
       "      <td>10</td>\n",
       "      <td>9</td>\n",
       "      <td>0.526316</td>\n",
       "    </tr>\n",
       "    <tr>\n",
       "      <th>Yes</th>\n",
       "      <td>440</td>\n",
       "      <td>773</td>\n",
       "      <td>0.362737</td>\n",
       "    </tr>\n",
       "  </tbody>\n",
       "</table>\n",
       "</div>"
      ],
      "text/plain": [
       "Observed Attendance   No  Yes      perc\n",
       "Reminder                               \n",
       "No                    10    9  0.526316\n",
       "Yes                  440  773  0.362737"
      ]
     },
     "execution_count": 77,
     "metadata": {},
     "output_type": "execute_result"
    }
   ],
   "source": [
    "rem['perc'] = (rem['No']/(rem['Yes'] + rem['No']))\n",
    "rem"
   ]
  },
  {
   "cell_type": "markdown",
   "metadata": {},
   "source": [
    "**Observations:**<br/>\n",
    "36% candidates did not show up even after reminders.    "
   ]
  },
  {
   "cell_type": "markdown",
   "metadata": {},
   "source": [
    "**Label Encoding**"
   ]
  },
  {
   "cell_type": "code",
   "execution_count": 78,
   "metadata": {},
   "outputs": [
    {
     "name": "stderr",
     "output_type": "stream",
     "text": [
      "C:\\Users\\Aravind\\Anaconda3\\New folder\\lib\\site-packages\\ipykernel_launcher.py:4: SettingWithCopyWarning: \n",
      "A value is trying to be set on a copy of a slice from a DataFrame.\n",
      "Try using .loc[row_indexer,col_indexer] = value instead\n",
      "\n",
      "See the caveats in the documentation: http://pandas.pydata.org/pandas-docs/stable/indexing.html#indexing-view-versus-copy\n",
      "  after removing the cwd from sys.path.\n"
     ]
    }
   ],
   "source": [
    "from sklearn.preprocessing import LabelEncoder\n",
    "labelencoder=LabelEncoder()\n",
    "for column in cat_columns.columns:\n",
    "    cat_columns[column] = labelencoder.fit_transform(cat_columns[column])"
   ]
  },
  {
   "cell_type": "markdown",
   "metadata": {},
   "source": [
    "**Note:**<br/> \n",
    "Converted string categorical columns to numerical categorical columns using Label Encoder. It is just a process of converting the variables to the form we understand easily."
   ]
  },
  {
   "cell_type": "code",
   "execution_count": 79,
   "metadata": {},
   "outputs": [
    {
     "data": {
      "text/html": [
       "<div>\n",
       "<style scoped>\n",
       "    .dataframe tbody tr th:only-of-type {\n",
       "        vertical-align: middle;\n",
       "    }\n",
       "\n",
       "    .dataframe tbody tr th {\n",
       "        vertical-align: top;\n",
       "    }\n",
       "\n",
       "    .dataframe thead th {\n",
       "        text-align: right;\n",
       "    }\n",
       "</style>\n",
       "<table border=\"1\" class=\"dataframe\">\n",
       "  <thead>\n",
       "    <tr style=\"text-align: right;\">\n",
       "      <th></th>\n",
       "      <th>Client name</th>\n",
       "      <th>Industry</th>\n",
       "      <th>Location</th>\n",
       "      <th>Position</th>\n",
       "      <th>Interview Type</th>\n",
       "      <th>Gender</th>\n",
       "      <th>Current Location</th>\n",
       "      <th>Candidate Job Location</th>\n",
       "      <th>Interview Venue</th>\n",
       "      <th>Native</th>\n",
       "      <th>permission</th>\n",
       "      <th>meetings</th>\n",
       "      <th>Reminder</th>\n",
       "      <th>Alternate number</th>\n",
       "      <th>Resume printout &amp; JD</th>\n",
       "      <th>Venue clear</th>\n",
       "      <th>Call letter shared</th>\n",
       "      <th>Expected Attendance</th>\n",
       "      <th>Marital Status</th>\n",
       "      <th>Observed Attendance</th>\n",
       "    </tr>\n",
       "  </thead>\n",
       "  <tbody>\n",
       "    <tr>\n",
       "      <th>Client name</th>\n",
       "      <td>1.000000</td>\n",
       "      <td>-0.530080</td>\n",
       "      <td>-0.458464</td>\n",
       "      <td>0.339549</td>\n",
       "      <td>0.386686</td>\n",
       "      <td>0.018187</td>\n",
       "      <td>-0.164317</td>\n",
       "      <td>-0.394595</td>\n",
       "      <td>-0.434385</td>\n",
       "      <td>-0.149094</td>\n",
       "      <td>0.012409</td>\n",
       "      <td>3.022586e-02</td>\n",
       "      <td>0.056589</td>\n",
       "      <td>0.055467</td>\n",
       "      <td>0.011772</td>\n",
       "      <td>-0.017736</td>\n",
       "      <td>0.019322</td>\n",
       "      <td>2.495141e-02</td>\n",
       "      <td>0.001342</td>\n",
       "      <td>-6.291150e-02</td>\n",
       "    </tr>\n",
       "    <tr>\n",
       "      <th>Industry</th>\n",
       "      <td>-0.530080</td>\n",
       "      <td>1.000000</td>\n",
       "      <td>0.334320</td>\n",
       "      <td>-0.438385</td>\n",
       "      <td>-0.350111</td>\n",
       "      <td>0.043980</td>\n",
       "      <td>0.081614</td>\n",
       "      <td>0.355400</td>\n",
       "      <td>0.388822</td>\n",
       "      <td>0.162455</td>\n",
       "      <td>-0.156818</td>\n",
       "      <td>-3.951662e-02</td>\n",
       "      <td>-0.099856</td>\n",
       "      <td>-0.064401</td>\n",
       "      <td>-0.068158</td>\n",
       "      <td>-0.005123</td>\n",
       "      <td>-0.057669</td>\n",
       "      <td>-1.593753e-01</td>\n",
       "      <td>-0.155246</td>\n",
       "      <td>-4.556100e-02</td>\n",
       "    </tr>\n",
       "    <tr>\n",
       "      <th>Location</th>\n",
       "      <td>-0.458464</td>\n",
       "      <td>0.334320</td>\n",
       "      <td>1.000000</td>\n",
       "      <td>-0.040629</td>\n",
       "      <td>-0.279713</td>\n",
       "      <td>-0.022903</td>\n",
       "      <td>0.666721</td>\n",
       "      <td>0.772761</td>\n",
       "      <td>0.887340</td>\n",
       "      <td>0.200453</td>\n",
       "      <td>0.008502</td>\n",
       "      <td>-3.994961e-02</td>\n",
       "      <td>-0.095293</td>\n",
       "      <td>-0.037585</td>\n",
       "      <td>-0.030209</td>\n",
       "      <td>0.007900</td>\n",
       "      <td>-0.007311</td>\n",
       "      <td>-1.609583e-03</td>\n",
       "      <td>-0.058421</td>\n",
       "      <td>3.780441e-02</td>\n",
       "    </tr>\n",
       "    <tr>\n",
       "      <th>Position</th>\n",
       "      <td>0.339549</td>\n",
       "      <td>-0.438385</td>\n",
       "      <td>-0.040629</td>\n",
       "      <td>1.000000</td>\n",
       "      <td>0.320110</td>\n",
       "      <td>-0.044039</td>\n",
       "      <td>0.078005</td>\n",
       "      <td>0.038656</td>\n",
       "      <td>-0.053280</td>\n",
       "      <td>-0.118307</td>\n",
       "      <td>0.148698</td>\n",
       "      <td>9.047795e-03</td>\n",
       "      <td>0.046849</td>\n",
       "      <td>0.080738</td>\n",
       "      <td>0.056058</td>\n",
       "      <td>0.028001</td>\n",
       "      <td>0.095596</td>\n",
       "      <td>9.173506e-02</td>\n",
       "      <td>0.037407</td>\n",
       "      <td>-4.897838e-02</td>\n",
       "    </tr>\n",
       "    <tr>\n",
       "      <th>Interview Type</th>\n",
       "      <td>0.386686</td>\n",
       "      <td>-0.350111</td>\n",
       "      <td>-0.279713</td>\n",
       "      <td>0.320110</td>\n",
       "      <td>1.000000</td>\n",
       "      <td>-0.012494</td>\n",
       "      <td>-0.122026</td>\n",
       "      <td>-0.262738</td>\n",
       "      <td>-0.293741</td>\n",
       "      <td>-0.169689</td>\n",
       "      <td>0.052154</td>\n",
       "      <td>2.090295e-02</td>\n",
       "      <td>0.072706</td>\n",
       "      <td>0.066491</td>\n",
       "      <td>0.052060</td>\n",
       "      <td>0.052353</td>\n",
       "      <td>0.090120</td>\n",
       "      <td>5.698747e-02</td>\n",
       "      <td>0.055312</td>\n",
       "      <td>-8.188289e-02</td>\n",
       "    </tr>\n",
       "    <tr>\n",
       "      <th>Gender</th>\n",
       "      <td>0.018187</td>\n",
       "      <td>0.043980</td>\n",
       "      <td>-0.022903</td>\n",
       "      <td>-0.044039</td>\n",
       "      <td>-0.012494</td>\n",
       "      <td>1.000000</td>\n",
       "      <td>0.015546</td>\n",
       "      <td>-0.009627</td>\n",
       "      <td>-0.006697</td>\n",
       "      <td>0.075264</td>\n",
       "      <td>0.030719</td>\n",
       "      <td>-3.691182e-02</td>\n",
       "      <td>-0.034057</td>\n",
       "      <td>0.103182</td>\n",
       "      <td>0.028977</td>\n",
       "      <td>-0.005459</td>\n",
       "      <td>0.011849</td>\n",
       "      <td>4.280428e-02</td>\n",
       "      <td>0.222606</td>\n",
       "      <td>4.537018e-03</td>\n",
       "    </tr>\n",
       "    <tr>\n",
       "      <th>Current Location</th>\n",
       "      <td>-0.164317</td>\n",
       "      <td>0.081614</td>\n",
       "      <td>0.666721</td>\n",
       "      <td>0.078005</td>\n",
       "      <td>-0.122026</td>\n",
       "      <td>0.015546</td>\n",
       "      <td>1.000000</td>\n",
       "      <td>0.547612</td>\n",
       "      <td>0.600617</td>\n",
       "      <td>0.140649</td>\n",
       "      <td>0.037268</td>\n",
       "      <td>-2.469168e-02</td>\n",
       "      <td>-0.024034</td>\n",
       "      <td>0.008823</td>\n",
       "      <td>0.012098</td>\n",
       "      <td>0.014979</td>\n",
       "      <td>0.029658</td>\n",
       "      <td>5.927650e-02</td>\n",
       "      <td>-0.047447</td>\n",
       "      <td>4.699930e-02</td>\n",
       "    </tr>\n",
       "    <tr>\n",
       "      <th>Candidate Job Location</th>\n",
       "      <td>-0.394595</td>\n",
       "      <td>0.355400</td>\n",
       "      <td>0.772761</td>\n",
       "      <td>0.038656</td>\n",
       "      <td>-0.262738</td>\n",
       "      <td>-0.009627</td>\n",
       "      <td>0.547612</td>\n",
       "      <td>1.000000</td>\n",
       "      <td>0.860795</td>\n",
       "      <td>0.230048</td>\n",
       "      <td>0.017532</td>\n",
       "      <td>-1.138042e-01</td>\n",
       "      <td>-0.046735</td>\n",
       "      <td>-0.001798</td>\n",
       "      <td>-0.040182</td>\n",
       "      <td>0.033714</td>\n",
       "      <td>-0.033077</td>\n",
       "      <td>1.308926e-03</td>\n",
       "      <td>-0.069903</td>\n",
       "      <td>4.161708e-02</td>\n",
       "    </tr>\n",
       "    <tr>\n",
       "      <th>Interview Venue</th>\n",
       "      <td>-0.434385</td>\n",
       "      <td>0.388822</td>\n",
       "      <td>0.887340</td>\n",
       "      <td>-0.053280</td>\n",
       "      <td>-0.293741</td>\n",
       "      <td>-0.006697</td>\n",
       "      <td>0.600617</td>\n",
       "      <td>0.860795</td>\n",
       "      <td>1.000000</td>\n",
       "      <td>0.240113</td>\n",
       "      <td>0.009875</td>\n",
       "      <td>-8.611767e-02</td>\n",
       "      <td>-0.127127</td>\n",
       "      <td>-0.038039</td>\n",
       "      <td>-0.031181</td>\n",
       "      <td>0.013656</td>\n",
       "      <td>-0.008054</td>\n",
       "      <td>-1.270105e-02</td>\n",
       "      <td>-0.090985</td>\n",
       "      <td>2.821162e-02</td>\n",
       "    </tr>\n",
       "    <tr>\n",
       "      <th>Native</th>\n",
       "      <td>-0.149094</td>\n",
       "      <td>0.162455</td>\n",
       "      <td>0.200453</td>\n",
       "      <td>-0.118307</td>\n",
       "      <td>-0.169689</td>\n",
       "      <td>0.075264</td>\n",
       "      <td>0.140649</td>\n",
       "      <td>0.230048</td>\n",
       "      <td>0.240113</td>\n",
       "      <td>1.000000</td>\n",
       "      <td>-0.017013</td>\n",
       "      <td>6.274297e-02</td>\n",
       "      <td>-0.067395</td>\n",
       "      <td>-0.096040</td>\n",
       "      <td>-0.097457</td>\n",
       "      <td>-0.013825</td>\n",
       "      <td>-0.046614</td>\n",
       "      <td>-9.852741e-02</td>\n",
       "      <td>-0.033534</td>\n",
       "      <td>-6.053616e-03</td>\n",
       "    </tr>\n",
       "    <tr>\n",
       "      <th>permission</th>\n",
       "      <td>0.012409</td>\n",
       "      <td>-0.156818</td>\n",
       "      <td>0.008502</td>\n",
       "      <td>0.148698</td>\n",
       "      <td>0.052154</td>\n",
       "      <td>0.030719</td>\n",
       "      <td>0.037268</td>\n",
       "      <td>0.017532</td>\n",
       "      <td>0.009875</td>\n",
       "      <td>-0.017013</td>\n",
       "      <td>1.000000</td>\n",
       "      <td>5.082260e-02</td>\n",
       "      <td>0.090877</td>\n",
       "      <td>0.085166</td>\n",
       "      <td>0.128868</td>\n",
       "      <td>0.065072</td>\n",
       "      <td>0.137204</td>\n",
       "      <td>6.585420e-01</td>\n",
       "      <td>0.054934</td>\n",
       "      <td>2.970639e-01</td>\n",
       "    </tr>\n",
       "    <tr>\n",
       "      <th>meetings</th>\n",
       "      <td>0.030226</td>\n",
       "      <td>-0.039517</td>\n",
       "      <td>-0.039950</td>\n",
       "      <td>0.009048</td>\n",
       "      <td>0.020903</td>\n",
       "      <td>-0.036912</td>\n",
       "      <td>-0.024692</td>\n",
       "      <td>-0.113804</td>\n",
       "      <td>-0.086118</td>\n",
       "      <td>0.062743</td>\n",
       "      <td>0.050823</td>\n",
       "      <td>1.000000e+00</td>\n",
       "      <td>0.061792</td>\n",
       "      <td>-0.044612</td>\n",
       "      <td>-0.061517</td>\n",
       "      <td>0.060252</td>\n",
       "      <td>0.173038</td>\n",
       "      <td>-5.448234e-18</td>\n",
       "      <td>0.047124</td>\n",
       "      <td>-3.511332e-18</td>\n",
       "    </tr>\n",
       "    <tr>\n",
       "      <th>Reminder</th>\n",
       "      <td>0.056589</td>\n",
       "      <td>-0.099856</td>\n",
       "      <td>-0.095293</td>\n",
       "      <td>0.046849</td>\n",
       "      <td>0.072706</td>\n",
       "      <td>-0.034057</td>\n",
       "      <td>-0.024034</td>\n",
       "      <td>-0.046735</td>\n",
       "      <td>-0.127127</td>\n",
       "      <td>-0.067395</td>\n",
       "      <td>0.090877</td>\n",
       "      <td>6.179227e-02</td>\n",
       "      <td>1.000000</td>\n",
       "      <td>0.248135</td>\n",
       "      <td>0.221834</td>\n",
       "      <td>-0.016077</td>\n",
       "      <td>-0.002354</td>\n",
       "      <td>1.510232e-01</td>\n",
       "      <td>0.065616</td>\n",
       "      <td>4.186244e-02</td>\n",
       "    </tr>\n",
       "    <tr>\n",
       "      <th>Alternate number</th>\n",
       "      <td>0.055467</td>\n",
       "      <td>-0.064401</td>\n",
       "      <td>-0.037585</td>\n",
       "      <td>0.080738</td>\n",
       "      <td>0.066491</td>\n",
       "      <td>0.103182</td>\n",
       "      <td>0.008823</td>\n",
       "      <td>-0.001798</td>\n",
       "      <td>-0.038039</td>\n",
       "      <td>-0.096040</td>\n",
       "      <td>0.085166</td>\n",
       "      <td>-4.461250e-02</td>\n",
       "      <td>0.248135</td>\n",
       "      <td>1.000000</td>\n",
       "      <td>0.224934</td>\n",
       "      <td>0.127925</td>\n",
       "      <td>0.132496</td>\n",
       "      <td>2.821004e-01</td>\n",
       "      <td>-0.009468</td>\n",
       "      <td>1.331925e-01</td>\n",
       "    </tr>\n",
       "    <tr>\n",
       "      <th>Resume printout &amp; JD</th>\n",
       "      <td>0.011772</td>\n",
       "      <td>-0.068158</td>\n",
       "      <td>-0.030209</td>\n",
       "      <td>0.056058</td>\n",
       "      <td>0.052060</td>\n",
       "      <td>0.028977</td>\n",
       "      <td>0.012098</td>\n",
       "      <td>-0.040182</td>\n",
       "      <td>-0.031181</td>\n",
       "      <td>-0.097457</td>\n",
       "      <td>0.128868</td>\n",
       "      <td>-6.151696e-02</td>\n",
       "      <td>0.221834</td>\n",
       "      <td>0.224934</td>\n",
       "      <td>1.000000</td>\n",
       "      <td>0.163509</td>\n",
       "      <td>0.171867</td>\n",
       "      <td>2.835782e-01</td>\n",
       "      <td>-0.035374</td>\n",
       "      <td>1.381938e-01</td>\n",
       "    </tr>\n",
       "    <tr>\n",
       "      <th>Venue clear</th>\n",
       "      <td>-0.017736</td>\n",
       "      <td>-0.005123</td>\n",
       "      <td>0.007900</td>\n",
       "      <td>0.028001</td>\n",
       "      <td>0.052353</td>\n",
       "      <td>-0.005459</td>\n",
       "      <td>0.014979</td>\n",
       "      <td>0.033714</td>\n",
       "      <td>0.013656</td>\n",
       "      <td>-0.013825</td>\n",
       "      <td>0.065072</td>\n",
       "      <td>6.025249e-02</td>\n",
       "      <td>-0.016077</td>\n",
       "      <td>0.127925</td>\n",
       "      <td>0.163509</td>\n",
       "      <td>1.000000</td>\n",
       "      <td>0.416270</td>\n",
       "      <td>2.781063e-01</td>\n",
       "      <td>0.005980</td>\n",
       "      <td>1.159831e-01</td>\n",
       "    </tr>\n",
       "    <tr>\n",
       "      <th>Call letter shared</th>\n",
       "      <td>0.019322</td>\n",
       "      <td>-0.057669</td>\n",
       "      <td>-0.007311</td>\n",
       "      <td>0.095596</td>\n",
       "      <td>0.090120</td>\n",
       "      <td>0.011849</td>\n",
       "      <td>0.029658</td>\n",
       "      <td>-0.033077</td>\n",
       "      <td>-0.008054</td>\n",
       "      <td>-0.046614</td>\n",
       "      <td>0.137204</td>\n",
       "      <td>1.730385e-01</td>\n",
       "      <td>-0.002354</td>\n",
       "      <td>0.132496</td>\n",
       "      <td>0.171867</td>\n",
       "      <td>0.416270</td>\n",
       "      <td>1.000000</td>\n",
       "      <td>3.120201e-01</td>\n",
       "      <td>-0.031169</td>\n",
       "      <td>1.452685e-01</td>\n",
       "    </tr>\n",
       "    <tr>\n",
       "      <th>Expected Attendance</th>\n",
       "      <td>0.024951</td>\n",
       "      <td>-0.159375</td>\n",
       "      <td>-0.001610</td>\n",
       "      <td>0.091735</td>\n",
       "      <td>0.056987</td>\n",
       "      <td>0.042804</td>\n",
       "      <td>0.059276</td>\n",
       "      <td>0.001309</td>\n",
       "      <td>-0.012701</td>\n",
       "      <td>-0.098527</td>\n",
       "      <td>0.658542</td>\n",
       "      <td>-5.448234e-18</td>\n",
       "      <td>0.151023</td>\n",
       "      <td>0.282100</td>\n",
       "      <td>0.283578</td>\n",
       "      <td>0.278106</td>\n",
       "      <td>0.312020</td>\n",
       "      <td>1.000000e+00</td>\n",
       "      <td>0.046690</td>\n",
       "      <td>4.037505e-01</td>\n",
       "    </tr>\n",
       "    <tr>\n",
       "      <th>Marital Status</th>\n",
       "      <td>0.001342</td>\n",
       "      <td>-0.155246</td>\n",
       "      <td>-0.058421</td>\n",
       "      <td>0.037407</td>\n",
       "      <td>0.055312</td>\n",
       "      <td>0.222606</td>\n",
       "      <td>-0.047447</td>\n",
       "      <td>-0.069903</td>\n",
       "      <td>-0.090985</td>\n",
       "      <td>-0.033534</td>\n",
       "      <td>0.054934</td>\n",
       "      <td>4.712360e-02</td>\n",
       "      <td>0.065616</td>\n",
       "      <td>-0.009468</td>\n",
       "      <td>-0.035374</td>\n",
       "      <td>0.005980</td>\n",
       "      <td>-0.031169</td>\n",
       "      <td>4.669040e-02</td>\n",
       "      <td>1.000000</td>\n",
       "      <td>2.140178e-02</td>\n",
       "    </tr>\n",
       "    <tr>\n",
       "      <th>Observed Attendance</th>\n",
       "      <td>-0.062912</td>\n",
       "      <td>-0.045561</td>\n",
       "      <td>0.037804</td>\n",
       "      <td>-0.048978</td>\n",
       "      <td>-0.081883</td>\n",
       "      <td>0.004537</td>\n",
       "      <td>0.046999</td>\n",
       "      <td>0.041617</td>\n",
       "      <td>0.028212</td>\n",
       "      <td>-0.006054</td>\n",
       "      <td>0.297064</td>\n",
       "      <td>-3.511332e-18</td>\n",
       "      <td>0.041862</td>\n",
       "      <td>0.133192</td>\n",
       "      <td>0.138194</td>\n",
       "      <td>0.115983</td>\n",
       "      <td>0.145268</td>\n",
       "      <td>4.037505e-01</td>\n",
       "      <td>0.021402</td>\n",
       "      <td>1.000000e+00</td>\n",
       "    </tr>\n",
       "  </tbody>\n",
       "</table>\n",
       "</div>"
      ],
      "text/plain": [
       "                        Client name  Industry  Location  Position  \\\n",
       "Client name                1.000000 -0.530080 -0.458464  0.339549   \n",
       "Industry                  -0.530080  1.000000  0.334320 -0.438385   \n",
       "Location                  -0.458464  0.334320  1.000000 -0.040629   \n",
       "Position                   0.339549 -0.438385 -0.040629  1.000000   \n",
       "Interview Type             0.386686 -0.350111 -0.279713  0.320110   \n",
       "Gender                     0.018187  0.043980 -0.022903 -0.044039   \n",
       "Current Location          -0.164317  0.081614  0.666721  0.078005   \n",
       "Candidate Job Location    -0.394595  0.355400  0.772761  0.038656   \n",
       "Interview Venue           -0.434385  0.388822  0.887340 -0.053280   \n",
       "Native                    -0.149094  0.162455  0.200453 -0.118307   \n",
       "permission                 0.012409 -0.156818  0.008502  0.148698   \n",
       "meetings                   0.030226 -0.039517 -0.039950  0.009048   \n",
       "Reminder                   0.056589 -0.099856 -0.095293  0.046849   \n",
       "Alternate number           0.055467 -0.064401 -0.037585  0.080738   \n",
       "Resume printout & JD       0.011772 -0.068158 -0.030209  0.056058   \n",
       "Venue clear               -0.017736 -0.005123  0.007900  0.028001   \n",
       "Call letter shared         0.019322 -0.057669 -0.007311  0.095596   \n",
       "Expected Attendance        0.024951 -0.159375 -0.001610  0.091735   \n",
       "Marital Status             0.001342 -0.155246 -0.058421  0.037407   \n",
       "Observed Attendance       -0.062912 -0.045561  0.037804 -0.048978   \n",
       "\n",
       "                        Interview Type    Gender  Current Location  \\\n",
       "Client name                   0.386686  0.018187         -0.164317   \n",
       "Industry                     -0.350111  0.043980          0.081614   \n",
       "Location                     -0.279713 -0.022903          0.666721   \n",
       "Position                      0.320110 -0.044039          0.078005   \n",
       "Interview Type                1.000000 -0.012494         -0.122026   \n",
       "Gender                       -0.012494  1.000000          0.015546   \n",
       "Current Location             -0.122026  0.015546          1.000000   \n",
       "Candidate Job Location       -0.262738 -0.009627          0.547612   \n",
       "Interview Venue              -0.293741 -0.006697          0.600617   \n",
       "Native                       -0.169689  0.075264          0.140649   \n",
       "permission                    0.052154  0.030719          0.037268   \n",
       "meetings                      0.020903 -0.036912         -0.024692   \n",
       "Reminder                      0.072706 -0.034057         -0.024034   \n",
       "Alternate number              0.066491  0.103182          0.008823   \n",
       "Resume printout & JD          0.052060  0.028977          0.012098   \n",
       "Venue clear                   0.052353 -0.005459          0.014979   \n",
       "Call letter shared            0.090120  0.011849          0.029658   \n",
       "Expected Attendance           0.056987  0.042804          0.059276   \n",
       "Marital Status                0.055312  0.222606         -0.047447   \n",
       "Observed Attendance          -0.081883  0.004537          0.046999   \n",
       "\n",
       "                        Candidate Job Location  Interview Venue    Native  \\\n",
       "Client name                          -0.394595        -0.434385 -0.149094   \n",
       "Industry                              0.355400         0.388822  0.162455   \n",
       "Location                              0.772761         0.887340  0.200453   \n",
       "Position                              0.038656        -0.053280 -0.118307   \n",
       "Interview Type                       -0.262738        -0.293741 -0.169689   \n",
       "Gender                               -0.009627        -0.006697  0.075264   \n",
       "Current Location                      0.547612         0.600617  0.140649   \n",
       "Candidate Job Location                1.000000         0.860795  0.230048   \n",
       "Interview Venue                       0.860795         1.000000  0.240113   \n",
       "Native                                0.230048         0.240113  1.000000   \n",
       "permission                            0.017532         0.009875 -0.017013   \n",
       "meetings                             -0.113804        -0.086118  0.062743   \n",
       "Reminder                             -0.046735        -0.127127 -0.067395   \n",
       "Alternate number                     -0.001798        -0.038039 -0.096040   \n",
       "Resume printout & JD                 -0.040182        -0.031181 -0.097457   \n",
       "Venue clear                           0.033714         0.013656 -0.013825   \n",
       "Call letter shared                   -0.033077        -0.008054 -0.046614   \n",
       "Expected Attendance                   0.001309        -0.012701 -0.098527   \n",
       "Marital Status                       -0.069903        -0.090985 -0.033534   \n",
       "Observed Attendance                   0.041617         0.028212 -0.006054   \n",
       "\n",
       "                        permission      meetings  Reminder  Alternate number  \\\n",
       "Client name               0.012409  3.022586e-02  0.056589          0.055467   \n",
       "Industry                 -0.156818 -3.951662e-02 -0.099856         -0.064401   \n",
       "Location                  0.008502 -3.994961e-02 -0.095293         -0.037585   \n",
       "Position                  0.148698  9.047795e-03  0.046849          0.080738   \n",
       "Interview Type            0.052154  2.090295e-02  0.072706          0.066491   \n",
       "Gender                    0.030719 -3.691182e-02 -0.034057          0.103182   \n",
       "Current Location          0.037268 -2.469168e-02 -0.024034          0.008823   \n",
       "Candidate Job Location    0.017532 -1.138042e-01 -0.046735         -0.001798   \n",
       "Interview Venue           0.009875 -8.611767e-02 -0.127127         -0.038039   \n",
       "Native                   -0.017013  6.274297e-02 -0.067395         -0.096040   \n",
       "permission                1.000000  5.082260e-02  0.090877          0.085166   \n",
       "meetings                  0.050823  1.000000e+00  0.061792         -0.044612   \n",
       "Reminder                  0.090877  6.179227e-02  1.000000          0.248135   \n",
       "Alternate number          0.085166 -4.461250e-02  0.248135          1.000000   \n",
       "Resume printout & JD      0.128868 -6.151696e-02  0.221834          0.224934   \n",
       "Venue clear               0.065072  6.025249e-02 -0.016077          0.127925   \n",
       "Call letter shared        0.137204  1.730385e-01 -0.002354          0.132496   \n",
       "Expected Attendance       0.658542 -5.448234e-18  0.151023          0.282100   \n",
       "Marital Status            0.054934  4.712360e-02  0.065616         -0.009468   \n",
       "Observed Attendance       0.297064 -3.511332e-18  0.041862          0.133192   \n",
       "\n",
       "                        Resume printout & JD  Venue clear  Call letter shared  \\\n",
       "Client name                         0.011772    -0.017736            0.019322   \n",
       "Industry                           -0.068158    -0.005123           -0.057669   \n",
       "Location                           -0.030209     0.007900           -0.007311   \n",
       "Position                            0.056058     0.028001            0.095596   \n",
       "Interview Type                      0.052060     0.052353            0.090120   \n",
       "Gender                              0.028977    -0.005459            0.011849   \n",
       "Current Location                    0.012098     0.014979            0.029658   \n",
       "Candidate Job Location             -0.040182     0.033714           -0.033077   \n",
       "Interview Venue                    -0.031181     0.013656           -0.008054   \n",
       "Native                             -0.097457    -0.013825           -0.046614   \n",
       "permission                          0.128868     0.065072            0.137204   \n",
       "meetings                           -0.061517     0.060252            0.173038   \n",
       "Reminder                            0.221834    -0.016077           -0.002354   \n",
       "Alternate number                    0.224934     0.127925            0.132496   \n",
       "Resume printout & JD                1.000000     0.163509            0.171867   \n",
       "Venue clear                         0.163509     1.000000            0.416270   \n",
       "Call letter shared                  0.171867     0.416270            1.000000   \n",
       "Expected Attendance                 0.283578     0.278106            0.312020   \n",
       "Marital Status                     -0.035374     0.005980           -0.031169   \n",
       "Observed Attendance                 0.138194     0.115983            0.145268   \n",
       "\n",
       "                        Expected Attendance  Marital Status  \\\n",
       "Client name                    2.495141e-02        0.001342   \n",
       "Industry                      -1.593753e-01       -0.155246   \n",
       "Location                      -1.609583e-03       -0.058421   \n",
       "Position                       9.173506e-02        0.037407   \n",
       "Interview Type                 5.698747e-02        0.055312   \n",
       "Gender                         4.280428e-02        0.222606   \n",
       "Current Location               5.927650e-02       -0.047447   \n",
       "Candidate Job Location         1.308926e-03       -0.069903   \n",
       "Interview Venue               -1.270105e-02       -0.090985   \n",
       "Native                        -9.852741e-02       -0.033534   \n",
       "permission                     6.585420e-01        0.054934   \n",
       "meetings                      -5.448234e-18        0.047124   \n",
       "Reminder                       1.510232e-01        0.065616   \n",
       "Alternate number               2.821004e-01       -0.009468   \n",
       "Resume printout & JD           2.835782e-01       -0.035374   \n",
       "Venue clear                    2.781063e-01        0.005980   \n",
       "Call letter shared             3.120201e-01       -0.031169   \n",
       "Expected Attendance            1.000000e+00        0.046690   \n",
       "Marital Status                 4.669040e-02        1.000000   \n",
       "Observed Attendance            4.037505e-01        0.021402   \n",
       "\n",
       "                        Observed Attendance  \n",
       "Client name                   -6.291150e-02  \n",
       "Industry                      -4.556100e-02  \n",
       "Location                       3.780441e-02  \n",
       "Position                      -4.897838e-02  \n",
       "Interview Type                -8.188289e-02  \n",
       "Gender                         4.537018e-03  \n",
       "Current Location               4.699930e-02  \n",
       "Candidate Job Location         4.161708e-02  \n",
       "Interview Venue                2.821162e-02  \n",
       "Native                        -6.053616e-03  \n",
       "permission                     2.970639e-01  \n",
       "meetings                      -3.511332e-18  \n",
       "Reminder                       4.186244e-02  \n",
       "Alternate number               1.331925e-01  \n",
       "Resume printout & JD           1.381938e-01  \n",
       "Venue clear                    1.159831e-01  \n",
       "Call letter shared             1.452685e-01  \n",
       "Expected Attendance            4.037505e-01  \n",
       "Marital Status                 2.140178e-02  \n",
       "Observed Attendance            1.000000e+00  "
      ]
     },
     "execution_count": 79,
     "metadata": {},
     "output_type": "execute_result"
    }
   ],
   "source": [
    "Finaldata = pd.DataFrame(cat_columns)\n",
    "Finaldata.corr()"
   ]
  },
  {
   "cell_type": "code",
   "execution_count": 80,
   "metadata": {},
   "outputs": [
    {
     "data": {
      "text/plain": [
       "<matplotlib.axes._subplots.AxesSubplot at 0x1dfbe471a20>"
      ]
     },
     "execution_count": 80,
     "metadata": {},
     "output_type": "execute_result"
    },
    {
     "data": {
      "image/png": "[encoded data removed]",
      "text/plain": [
       "<Figure size 1080x864 with 2 Axes>"
      ]
     },
     "metadata": {
      "needs_background": "light"
     },
     "output_type": "display_data"
    }
   ],
   "source": [
    "plt.figure(figsize=(15,12))\n",
    "cor = round(Finaldata.corr(),2)\n",
    "sns.heatmap(cor, cmap = sns.color_palette('BuGn'), annot = True)"
   ]
  },
  {
   "cell_type": "markdown",
   "metadata": {},
   "source": [
    "**Observations:**<br/>\n",
    "Above correlation plot shows that Expected attendance and permission columns are slightly correlated with Target Variable. <br/>\n",
    "Candidate job location and Interview venue are hightly correlated with each other but not with Target variable. So we can drop these columns.<br/>"
   ]
  },
  {
   "cell_type": "markdown",
   "metadata": {},
   "source": [
    "### Data Partition <a name='dp'></a>"
   ]
  },
  {
   "cell_type": "code",
   "execution_count": 81,
   "metadata": {},
   "outputs": [],
   "source": [
    "Y = Finaldata['Observed Attendance']\n",
    "Finaldata.drop(['Observed Attendance'], axis = 1, inplace = True)"
   ]
  },
  {
   "cell_type": "code",
   "execution_count": 83,
   "metadata": {},
   "outputs": [],
   "source": [
    "# Spltting Data in Training and Testing Data\n",
    "from sklearn.model_selection import train_test_split\n",
    "X_train,X_test,Y_train,Y_test = train_test_split(Finaldata,Y,random_state = 15)"
   ]
  },
  {
   "cell_type": "markdown",
   "metadata": {},
   "source": [
    "### Question: Perform classification using Naive Bayes algorithm and explain the performance"
   ]
  },
  {
   "cell_type": "code",
   "execution_count": 84,
   "metadata": {},
   "outputs": [],
   "source": [
    "from sklearn.naive_bayes import GaussianNB\n",
    "from sklearn.metrics import confusion_matrix, classification_report, roc_auc_score, accuracy_score\n",
    "from sklearn import metrics\n",
    "\n",
    "#Create a Gaussian Classifier\n",
    "model = GaussianNB() \n",
    "\n",
    "# Train the model using the training sets \n",
    "NB = model.fit(X_train, Y_train)\n",
    "\n",
    "#Predict Output \n",
    "predicted= model.predict(X_train)\n",
    "predict_test = model.predict(X_test)"
   ]
  },
  {
   "cell_type": "code",
   "execution_count": 85,
   "metadata": {},
   "outputs": [
    {
     "name": "stdout",
     "output_type": "stream",
     "text": [
      "              precision    recall  f1-score   support\n",
      "\n",
      "           0       0.82      0.31      0.45       121\n",
      "           1       0.68      0.96      0.80       187\n",
      "\n",
      "    accuracy                           0.70       308\n",
      "   macro avg       0.75      0.63      0.62       308\n",
      "weighted avg       0.74      0.70      0.66       308\n",
      "\n"
     ]
    }
   ],
   "source": [
    "#Let's see how our model performed on Test data\n",
    "print(classification_report(Y_test, predict_test))"
   ]
  },
  {
   "cell_type": "code",
   "execution_count": 86,
   "metadata": {},
   "outputs": [
    {
     "name": "stdout",
     "output_type": "stream",
     "text": [
      "[[ 37  84]\n",
      " [  8 179]]\n"
     ]
    }
   ],
   "source": [
    "#Confusion matrix\n",
    "print(confusion_matrix(Y_test, predict_test))"
   ]
  },
  {
   "cell_type": "code",
   "execution_count": 87,
   "metadata": {},
   "outputs": [
    {
     "name": "stdout",
     "output_type": "stream",
     "text": [
      "Train Accuracy Score: 0.7132034632034632\n",
      "Test Accuracy Score: 0.7012987012987013\n"
     ]
    }
   ],
   "source": [
    "#Train and Test Accuracy\n",
    "print(\"Train Accuracy Score:\", accuracy_score(Y_train, predicted))\n",
    "print(\"Test Accuracy Score:\", accuracy_score(Y_test, predict_test))"
   ]
  },
  {
   "cell_type": "code",
   "execution_count": 88,
   "metadata": {},
   "outputs": [
    {
     "data": {
      "image/png": "[encoded data removed]",
      "text/plain": [
       "<Figure size 432x288 with 1 Axes>"
      ]
     },
     "metadata": {
      "needs_background": "light"
     },
     "output_type": "display_data"
    }
   ],
   "source": [
    "Y_predict_test= NB.predict_proba(X_test)[:,1]\n",
    "##### False positive Rate, True Positive rate, ROC curve, AUC,\n",
    "fpr, tpr, thresholds = metrics.roc_curve(Y_test,Y_predict_test)\n",
    "roc_auc = metrics.auc(fpr, tpr)\n",
    "plt.plot(fpr, tpr,label='AUC = %0.2f'% roc_auc)\n",
    "plt.xlim([0.0, 1.0])\n",
    "plt.ylim([0.0, 1.0])\n",
    "plt.legend(loc='lower right')\n",
    "plt.title('ROC curve for Interview attendance')\n",
    "plt.xlabel('False Positive Rate (1 - Specificity)')\n",
    "plt.ylabel('True Positive Rate (Sensitivity)')\n",
    "plt.grid(True)"
   ]
  },
  {
   "cell_type": "markdown",
   "metadata": {},
   "source": [
    "### Observations and Conclusions: <a name='oc'></a>"
   ]
  },
  {
   "cell_type": "markdown",
   "metadata": {},
   "source": [
    "**Observations:** <br/>\n",
    "\n",
    "Interview attendance problem is a serious issue that needs to be addressed. Based on the dataset, I can make the following conclusions:<br/>\n",
    "The strongest predictors of observed attendance are Expected attendance and permission.<br/>\n",
    "Though marital status didn't play a large role in attendance, candidates who are married have a slightly higher chance of not showing up. <br/>\n",
    "\n",
    "**Recommendations:**<br/> \n",
    "There are candidates didnot show up even after reminders. So we can target those candidates and get further information for not showing up in order to avoid such instances with other candidates.<br/>\n",
    "Also we saw that most of the candidates did not show up in summer and winter seasons. In order to avoid that, we can schedule Telephonic interview in those seasons.<br/>\n",
    "\n",
    "**Conclusion:** <br/>\n",
    "Results seem pretty similar to the training/test split. ~70% accuracy is decent with this quick analysis after a lot of tinkering."
   ]
  }
 ],
 "metadata": {
  "kernelspec": {
   "display_name": "Python 3",
   "language": "python",
   "name": "python3"
  },
  "language_info": {
   "codemirror_mode": {
    "name": "ipython",
    "version": 3
   },
   "file_extension": ".py",
   "mimetype": "text/x-python",
   "name": "python",
   "nbconvert_exporter": "python",
   "pygments_lexer": "ipython3",
   "version": "3.7.3"
  }
 },
 "nbformat": 4,
 "nbformat_minor": 2
}
